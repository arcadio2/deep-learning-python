{
 "cells": [
  {
   "cell_type": "markdown",
   "id": "87988234",
   "metadata": {},
   "source": [
    "# Redes neuronales recurrentes"
   ]
  },
  {
   "cell_type": "markdown",
   "id": "57194688",
   "metadata": {},
   "source": [
    "## Parte 1.- Pre-procesado de datos"
   ]
  },
  {
   "cell_type": "code",
   "execution_count": 21,
   "id": "4f0d1b67",
   "metadata": {},
   "outputs": [],
   "source": [
    "import numpy as np\n",
    "import pandas as pd \n",
    "from matplotlib import pyplot as plt"
   ]
  },
  {
   "cell_type": "markdown",
   "id": "a4feb935",
   "metadata": {},
   "source": [
    "### Importamos datos de entrenamiento"
   ]
  },
  {
   "cell_type": "code",
   "execution_count": 22,
   "id": "5dfc5927",
   "metadata": {},
   "outputs": [],
   "source": [
    "data_train = pd.read_csv(\"Google_Stock_Price_Train.csv\")"
   ]
  },
  {
   "cell_type": "code",
   "execution_count": 23,
   "id": "be569454",
   "metadata": {},
   "outputs": [
    {
     "data": {
      "text/html": [
       "<div>\n",
       "<style scoped>\n",
       "    .dataframe tbody tr th:only-of-type {\n",
       "        vertical-align: middle;\n",
       "    }\n",
       "\n",
       "    .dataframe tbody tr th {\n",
       "        vertical-align: top;\n",
       "    }\n",
       "\n",
       "    .dataframe thead th {\n",
       "        text-align: right;\n",
       "    }\n",
       "</style>\n",
       "<table border=\"1\" class=\"dataframe\">\n",
       "  <thead>\n",
       "    <tr style=\"text-align: right;\">\n",
       "      <th></th>\n",
       "      <th>Date</th>\n",
       "      <th>Open</th>\n",
       "      <th>High</th>\n",
       "      <th>Low</th>\n",
       "      <th>Close</th>\n",
       "      <th>Volume</th>\n",
       "    </tr>\n",
       "  </thead>\n",
       "  <tbody>\n",
       "    <tr>\n",
       "      <th>0</th>\n",
       "      <td>1/3/2012</td>\n",
       "      <td>325.25</td>\n",
       "      <td>332.83</td>\n",
       "      <td>324.97</td>\n",
       "      <td>663.59</td>\n",
       "      <td>7,380,500</td>\n",
       "    </tr>\n",
       "    <tr>\n",
       "      <th>1</th>\n",
       "      <td>1/4/2012</td>\n",
       "      <td>331.27</td>\n",
       "      <td>333.87</td>\n",
       "      <td>329.08</td>\n",
       "      <td>666.45</td>\n",
       "      <td>5,749,400</td>\n",
       "    </tr>\n",
       "    <tr>\n",
       "      <th>2</th>\n",
       "      <td>1/5/2012</td>\n",
       "      <td>329.83</td>\n",
       "      <td>330.75</td>\n",
       "      <td>326.89</td>\n",
       "      <td>657.21</td>\n",
       "      <td>6,590,300</td>\n",
       "    </tr>\n",
       "    <tr>\n",
       "      <th>3</th>\n",
       "      <td>1/6/2012</td>\n",
       "      <td>328.34</td>\n",
       "      <td>328.77</td>\n",
       "      <td>323.68</td>\n",
       "      <td>648.24</td>\n",
       "      <td>5,405,900</td>\n",
       "    </tr>\n",
       "    <tr>\n",
       "      <th>4</th>\n",
       "      <td>1/9/2012</td>\n",
       "      <td>322.04</td>\n",
       "      <td>322.29</td>\n",
       "      <td>309.46</td>\n",
       "      <td>620.76</td>\n",
       "      <td>11,688,800</td>\n",
       "    </tr>\n",
       "  </tbody>\n",
       "</table>\n",
       "</div>"
      ],
      "text/plain": [
       "       Date    Open    High     Low   Close      Volume\n",
       "0  1/3/2012  325.25  332.83  324.97  663.59   7,380,500\n",
       "1  1/4/2012  331.27  333.87  329.08  666.45   5,749,400\n",
       "2  1/5/2012  329.83  330.75  326.89  657.21   6,590,300\n",
       "3  1/6/2012  328.34  328.77  323.68  648.24   5,405,900\n",
       "4  1/9/2012  322.04  322.29  309.46  620.76  11,688,800"
      ]
     },
     "execution_count": 23,
     "metadata": {},
     "output_type": "execute_result"
    }
   ],
   "source": [
    "data_train.head()"
   ]
  },
  {
   "cell_type": "code",
   "execution_count": 24,
   "id": "8239a903",
   "metadata": {},
   "outputs": [],
   "source": [
    "training_set = data_train.iloc[:,1:2].values #iloc enbase a pos, loc a nombre"
   ]
  },
  {
   "cell_type": "code",
   "execution_count": 25,
   "id": "923ccd87",
   "metadata": {},
   "outputs": [
    {
     "data": {
      "text/plain": [
       "array([[325.25],\n",
       "       [331.27],\n",
       "       [329.83],\n",
       "       ...,\n",
       "       [793.7 ],\n",
       "       [783.33],\n",
       "       [782.75]])"
      ]
     },
     "execution_count": 25,
     "metadata": {},
     "output_type": "execute_result"
    }
   ],
   "source": [
    "training_set"
   ]
  },
  {
   "cell_type": "markdown",
   "id": "e855c929",
   "metadata": {},
   "source": [
    "### Escalado de caracteristicas\n",
    "Por lo general para el escalado usamos la normalziación\n",
    "x-min(x)/(max(x)-min(x))"
   ]
  },
  {
   "cell_type": "code",
   "execution_count": 26,
   "id": "5d061c76",
   "metadata": {},
   "outputs": [],
   "source": [
    "from sklearn.preprocessing import MinMaxScaler"
   ]
  },
  {
   "cell_type": "code",
   "execution_count": 27,
   "id": "b121e04d",
   "metadata": {},
   "outputs": [],
   "source": [
    "sc = MinMaxScaler(feature_range=(0,1))"
   ]
  },
  {
   "cell_type": "code",
   "execution_count": 28,
   "id": "bcac6d29",
   "metadata": {},
   "outputs": [],
   "source": [
    "training_set_scaled = sc.fit_transform(training_set) #fit obtiene minimo y maximo, la formula, y el transform aplica la formula"
   ]
  },
  {
   "cell_type": "code",
   "execution_count": 29,
   "id": "6a18df32",
   "metadata": {},
   "outputs": [
    {
     "data": {
      "text/plain": [
       "(1258, 1)"
      ]
     },
     "execution_count": 29,
     "metadata": {},
     "output_type": "execute_result"
    }
   ],
   "source": [
    "training_set_scaled.shape"
   ]
  },
  {
   "cell_type": "code",
   "execution_count": 30,
   "id": "e00fe0dc",
   "metadata": {},
   "outputs": [
    {
     "data": {
      "text/plain": [
       "array([[0.08581368],\n",
       "       [0.09701243],\n",
       "       [0.09433366],\n",
       "       ...,\n",
       "       [0.95725128],\n",
       "       [0.93796041],\n",
       "       [0.93688146]])"
      ]
     },
     "execution_count": 30,
     "metadata": {},
     "output_type": "execute_result"
    }
   ],
   "source": [
    "training_set_scaled"
   ]
  },
  {
   "cell_type": "markdown",
   "id": "c8efc3cc",
   "metadata": {},
   "source": [
    "### Estructura con 60 time steps y 1 salida, es decir, verá 60 días atras y predecirá el día siguiente"
   ]
  },
  {
   "cell_type": "code",
   "execution_count": 31,
   "id": "b6105bd5",
   "metadata": {},
   "outputs": [],
   "source": [
    "X_train = []\n",
    "y_train = []\n",
    "for i in range(60,1258):\n",
    "    #del 0 al 59, y la y que va a predecir es la 60, luego del 1 al 60, etc\n",
    "    X_train.append(training_set_scaled[i-60:i,0])\n",
    "    #el 60 \n",
    "    y_train.append(training_set_scaled[i,0])\n",
    "X_train, y_train = np.array(X_train), np.array(y_train)"
   ]
  },
  {
   "cell_type": "code",
   "execution_count": 32,
   "id": "a3505bdd",
   "metadata": {},
   "outputs": [
    {
     "data": {
      "text/plain": [
       "array([[0.08581368, 0.09701243, 0.09433366, ..., 0.07846566, 0.08034452,\n",
       "        0.08497656],\n",
       "       [0.09701243, 0.09433366, 0.09156187, ..., 0.08034452, 0.08497656,\n",
       "        0.08627874],\n",
       "       [0.09433366, 0.09156187, 0.07984225, ..., 0.08497656, 0.08627874,\n",
       "        0.08471612],\n",
       "       ...,\n",
       "       [0.92106928, 0.92438053, 0.93048218, ..., 0.95475854, 0.95204256,\n",
       "        0.95163331],\n",
       "       [0.92438053, 0.93048218, 0.9299055 , ..., 0.95204256, 0.95163331,\n",
       "        0.95725128],\n",
       "       [0.93048218, 0.9299055 , 0.93113327, ..., 0.95163331, 0.95725128,\n",
       "        0.93796041]])"
      ]
     },
     "execution_count": 32,
     "metadata": {},
     "output_type": "execute_result"
    }
   ],
   "source": [
    "X_train"
   ]
  },
  {
   "cell_type": "code",
   "execution_count": 34,
   "id": "c9f873cf",
   "metadata": {},
   "outputs": [
    {
     "name": "stdout",
     "output_type": "stream",
     "text": [
      "(60,)\n",
      "0.08627874097775134\n"
     ]
    }
   ],
   "source": [
    "print(X_train[0].shape)\n",
    "print(y_train[0])"
   ]
  },
  {
   "cell_type": "markdown",
   "id": "8ca6bb6c",
   "metadata": {},
   "source": [
    "### Ahora mismo tenemos una matriz en el conjunto de entrenamiento, donde va en la primera columna del 0 al 59, luego del 1 al 60, etc. Sin embargo, se podrían añadir mas datos en un nivel de profundidadd (otra dimensión), esto con el fin de obtener un mejor resultado"
   ]
  },
  {
   "cell_type": "markdown",
   "id": "2659a986",
   "metadata": {},
   "source": [
    "### Redimensionar los datos"
   ]
  },
  {
   "cell_type": "code",
   "execution_count": 48,
   "id": "9229765a",
   "metadata": {},
   "outputs": [
    {
     "name": "stdout",
     "output_type": "stream",
     "text": [
      "(60, 1)\n"
     ]
    }
   ],
   "source": [
    "#Solo necesitamos hacerlos en el conjunto de entrenamiento\n",
    "#Redimensionamos \n",
    "X_train = np.reshape(X_train,(X_train.shape[0],X_train.shape[1],1))# 1 dato en la tercera dimension\n",
    "print(X_train[0].shape)"
   ]
  },
  {
   "cell_type": "code",
   "execution_count": 49,
   "id": "17d35f88",
   "metadata": {},
   "outputs": [
    {
     "data": {
      "text/plain": [
       "(1198, 60, 1)"
      ]
     },
     "execution_count": 49,
     "metadata": {},
     "output_type": "execute_result"
    }
   ],
   "source": [
    "X_train.shape"
   ]
  },
  {
   "cell_type": "code",
   "execution_count": 50,
   "id": "76c67911",
   "metadata": {},
   "outputs": [],
   "source": [
    "from keras.models import Sequential\n",
    "from keras.layers import Dense,LSTM,Dropout #dropout regularizqa el overfiting"
   ]
  },
  {
   "cell_type": "code",
   "execution_count": 62,
   "id": "8fb6c0e1",
   "metadata": {},
   "outputs": [],
   "source": [
    "regresor = Sequential() #es una regresion, no una clasificación"
   ]
  },
  {
   "cell_type": "code",
   "execution_count": 63,
   "id": "33e6e3e1",
   "metadata": {},
   "outputs": [],
   "source": [
    "#Los 3 básicos de LSTM, 50 neuronas por capa, True porque quiero agregar mas capas, ña ultima debe ser falsehood\n",
    "regresor.add(LSTM(units=50,return_sequences=True,input_shape = (X_train.shape[1],1) ))"
   ]
  },
  {
   "cell_type": "code",
   "execution_count": 64,
   "id": "cc251896",
   "metadata": {},
   "outputs": [],
   "source": [
    "#Se desactivan unas aleatoriamente para prevenir overfiting, 20%\n",
    "regresor.add(Dropout(0.2))"
   ]
  },
  {
   "cell_type": "code",
   "execution_count": 65,
   "id": "1ddb8999",
   "metadata": {},
   "outputs": [],
   "source": [
    "regresor.add(LSTM(units=50,return_sequences=True ))\n",
    "regresor.add(Dropout(0.2))"
   ]
  },
  {
   "cell_type": "code",
   "execution_count": 66,
   "id": "66bef993",
   "metadata": {},
   "outputs": [],
   "source": [
    "regresor.add(LSTM(units=50,return_sequences=True ))\n",
    "regresor.add(Dropout(0.2))"
   ]
  },
  {
   "cell_type": "code",
   "execution_count": 67,
   "id": "d9326160",
   "metadata": {},
   "outputs": [],
   "source": [
    "#Capa final de LSTM\n",
    "regresor.add(LSTM(units=2,return_sequences=False ))\n",
    "regresor.add(Dropout(0.2))"
   ]
  },
  {
   "cell_type": "code",
   "execution_count": 68,
   "id": "39fbd13e",
   "metadata": {},
   "outputs": [],
   "source": [
    "#Capa de salida\n",
    "regresor.add(Dense(units=1))"
   ]
  },
  {
   "cell_type": "markdown",
   "id": "fce30d45",
   "metadata": {},
   "source": [
    "## Compilar la red neuronal\n"
   ]
  },
  {
   "cell_type": "code",
   "execution_count": 69,
   "id": "4a4f63f0",
   "metadata": {},
   "outputs": [],
   "source": [
    "#Como es un problema de regresion el optimizador no sera el mismo \n",
    "regresor.compile(optimizer='adam', loss='mean_squared_error')"
   ]
  },
  {
   "cell_type": "markdown",
   "id": "961de0aa",
   "metadata": {},
   "source": [
    "### Ajustar la red neuronal al conjunto de entrenamiento"
   ]
  },
  {
   "cell_type": "code",
   "execution_count": 70,
   "id": "d9c83bad",
   "metadata": {},
   "outputs": [
    {
     "name": "stdout",
     "output_type": "stream",
     "text": [
      "Epoch 1/100\n",
      "38/38 [==============================] - 12s 67ms/step - loss: 0.0798\n",
      "Epoch 2/100\n",
      "38/38 [==============================] - 3s 69ms/step - loss: 0.0418\n",
      "Epoch 3/100\n",
      "38/38 [==============================] - 3s 68ms/step - loss: 0.0341\n",
      "Epoch 4/100\n",
      "38/38 [==============================] - 3s 68ms/step - loss: 0.0296\n",
      "Epoch 5/100\n",
      "38/38 [==============================] - 3s 68ms/step - loss: 0.0319\n",
      "Epoch 6/100\n",
      "38/38 [==============================] - 3s 74ms/step - loss: 0.0269\n",
      "Epoch 7/100\n",
      "38/38 [==============================] - 3s 74ms/step - loss: 0.0282\n",
      "Epoch 8/100\n",
      "38/38 [==============================] - 3s 71ms/step - loss: 0.0226\n",
      "Epoch 9/100\n",
      "38/38 [==============================] - 3s 67ms/step - loss: 0.0206\n",
      "Epoch 10/100\n",
      "38/38 [==============================] - 3s 68ms/step - loss: 0.0209\n",
      "Epoch 11/100\n",
      "38/38 [==============================] - 3s 66ms/step - loss: 0.0196\n",
      "Epoch 12/100\n",
      "38/38 [==============================] - 3s 68ms/step - loss: 0.0207\n",
      "Epoch 13/100\n",
      "38/38 [==============================] - 3s 67ms/step - loss: 0.0193\n",
      "Epoch 14/100\n",
      "38/38 [==============================] - 3s 67ms/step - loss: 0.0164\n",
      "Epoch 15/100\n",
      "38/38 [==============================] - 2s 66ms/step - loss: 0.0168\n",
      "Epoch 16/100\n",
      "38/38 [==============================] - 3s 67ms/step - loss: 0.0149\n",
      "Epoch 17/100\n",
      "38/38 [==============================] - 3s 68ms/step - loss: 0.0137\n",
      "Epoch 18/100\n",
      "38/38 [==============================] - 2s 65ms/step - loss: 0.0154\n",
      "Epoch 19/100\n",
      "38/38 [==============================] - 2s 65ms/step - loss: 0.0166\n",
      "Epoch 20/100\n",
      "38/38 [==============================] - 2s 65ms/step - loss: 0.0135\n",
      "Epoch 21/100\n",
      "38/38 [==============================] - 2s 65ms/step - loss: 0.0137\n",
      "Epoch 22/100\n",
      "38/38 [==============================] - 3s 69ms/step - loss: 0.0114\n",
      "Epoch 23/100\n",
      "38/38 [==============================] - 3s 67ms/step - loss: 0.0122\n",
      "Epoch 24/100\n",
      "38/38 [==============================] - 2s 65ms/step - loss: 0.0134\n",
      "Epoch 25/100\n",
      "38/38 [==============================] - 3s 73ms/step - loss: 0.0100\n",
      "Epoch 26/100\n",
      "38/38 [==============================] - 2s 65ms/step - loss: 0.0110\n",
      "Epoch 27/100\n",
      "38/38 [==============================] - 2s 65ms/step - loss: 0.0112\n",
      "Epoch 28/100\n",
      "38/38 [==============================] - 2s 65ms/step - loss: 0.0122\n",
      "Epoch 29/100\n",
      "38/38 [==============================] - 2s 64ms/step - loss: 0.0112\n",
      "Epoch 30/100\n",
      "38/38 [==============================] - 3s 70ms/step - loss: 0.0099\n",
      "Epoch 31/100\n",
      "38/38 [==============================] - 3s 67ms/step - loss: 0.0097\n",
      "Epoch 32/100\n",
      "38/38 [==============================] - 3s 67ms/step - loss: 0.0095\n",
      "Epoch 33/100\n",
      "38/38 [==============================] - 3s 70ms/step - loss: 0.0096\n",
      "Epoch 34/100\n",
      "38/38 [==============================] - 3s 77ms/step - loss: 0.0110\n",
      "Epoch 35/100\n",
      "38/38 [==============================] - 3s 79ms/step - loss: 0.0100\n",
      "Epoch 36/100\n",
      "38/38 [==============================] - 3s 69ms/step - loss: 0.0099\n",
      "Epoch 37/100\n",
      "38/38 [==============================] - 3s 73ms/step - loss: 0.0104\n",
      "Epoch 38/100\n",
      "38/38 [==============================] - 3s 70ms/step - loss: 0.0101\n",
      "Epoch 39/100\n",
      "38/38 [==============================] - 2s 65ms/step - loss: 0.0114\n",
      "Epoch 40/100\n",
      "38/38 [==============================] - 3s 70ms/step - loss: 0.0095\n",
      "Epoch 41/100\n",
      "38/38 [==============================] - 3s 73ms/step - loss: 0.0097\n",
      "Epoch 42/100\n",
      "38/38 [==============================] - 3s 66ms/step - loss: 0.0098\n",
      "Epoch 43/100\n",
      "38/38 [==============================] - 2s 64ms/step - loss: 0.0093\n",
      "Epoch 44/100\n",
      "38/38 [==============================] - 3s 68ms/step - loss: 0.0101\n",
      "Epoch 45/100\n",
      "38/38 [==============================] - 2s 66ms/step - loss: 0.0088\n",
      "Epoch 46/100\n",
      "38/38 [==============================] - 2s 65ms/step - loss: 0.0101\n",
      "Epoch 47/100\n",
      "38/38 [==============================] - 3s 70ms/step - loss: 0.0100\n",
      "Epoch 48/100\n",
      "38/38 [==============================] - 3s 68ms/step - loss: 0.0089\n",
      "Epoch 49/100\n",
      "38/38 [==============================] - 2s 65ms/step - loss: 0.0104\n",
      "Epoch 50/100\n",
      "38/38 [==============================] - 3s 66ms/step - loss: 0.0096\n",
      "Epoch 51/100\n",
      "38/38 [==============================] - 3s 79ms/step - loss: 0.0096\n",
      "Epoch 52/100\n",
      "38/38 [==============================] - 3s 67ms/step - loss: 0.0101\n",
      "Epoch 53/100\n",
      "38/38 [==============================] - 3s 74ms/step - loss: 0.0095\n",
      "Epoch 54/100\n",
      "38/38 [==============================] - 3s 70ms/step - loss: 0.0094\n",
      "Epoch 55/100\n",
      "38/38 [==============================] - 3s 74ms/step - loss: 0.0094\n",
      "Epoch 56/100\n",
      "38/38 [==============================] - 3s 72ms/step - loss: 0.0095\n",
      "Epoch 57/100\n",
      "38/38 [==============================] - 3s 66ms/step - loss: 0.0091\n",
      "Epoch 58/100\n",
      "38/38 [==============================] - 2s 65ms/step - loss: 0.0087\n",
      "Epoch 59/100\n",
      "38/38 [==============================] - 3s 67ms/step - loss: 0.0096\n",
      "Epoch 60/100\n",
      "38/38 [==============================] - 3s 66ms/step - loss: 0.0097\n",
      "Epoch 61/100\n",
      "38/38 [==============================] - 2s 65ms/step - loss: 0.0097\n",
      "Epoch 62/100\n",
      "38/38 [==============================] - 2s 65ms/step - loss: 0.0082\n",
      "Epoch 63/100\n",
      "38/38 [==============================] - 3s 67ms/step - loss: 0.0092\n",
      "Epoch 64/100\n",
      "38/38 [==============================] - 3s 67ms/step - loss: 0.0102\n",
      "Epoch 65/100\n",
      "38/38 [==============================] - 2s 64ms/step - loss: 0.0091\n",
      "Epoch 66/100\n",
      "38/38 [==============================] - 2s 65ms/step - loss: 0.0083\n",
      "Epoch 67/100\n",
      "38/38 [==============================] - 2s 64ms/step - loss: 0.0093\n",
      "Epoch 68/100\n",
      "38/38 [==============================] - 2s 62ms/step - loss: 0.0087\n",
      "Epoch 69/100\n",
      "38/38 [==============================] - 2s 64ms/step - loss: 0.0089\n",
      "Epoch 70/100\n",
      "38/38 [==============================] - 2s 63ms/step - loss: 0.0094\n",
      "Epoch 71/100\n",
      "38/38 [==============================] - 2s 63ms/step - loss: 0.0087\n",
      "Epoch 72/100\n",
      "38/38 [==============================] - 2s 63ms/step - loss: 0.0106\n",
      "Epoch 73/100\n",
      "38/38 [==============================] - 3s 67ms/step - loss: 0.0097: 0s - \n",
      "Epoch 74/100\n",
      "38/38 [==============================] - 3s 69ms/step - loss: 0.0085\n",
      "Epoch 75/100\n",
      "38/38 [==============================] - 2s 65ms/step - loss: 0.0090\n",
      "Epoch 76/100\n",
      "38/38 [==============================] - 3s 67ms/step - loss: 0.0095\n",
      "Epoch 77/100\n",
      "38/38 [==============================] - 3s 67ms/step - loss: 0.0098\n",
      "Epoch 78/100\n",
      "38/38 [==============================] - 2s 65ms/step - loss: 0.0104\n",
      "Epoch 79/100\n",
      "38/38 [==============================] - 2s 64ms/step - loss: 0.0086\n",
      "Epoch 80/100\n",
      "38/38 [==============================] - 2s 64ms/step - loss: 0.0097\n",
      "Epoch 81/100\n",
      "38/38 [==============================] - 2s 63ms/step - loss: 0.0085\n",
      "Epoch 82/100\n",
      "38/38 [==============================] - 2s 63ms/step - loss: 0.0098\n",
      "Epoch 83/100\n",
      "38/38 [==============================] - 2s 63ms/step - loss: 0.0090\n",
      "Epoch 84/100\n",
      "38/38 [==============================] - 2s 62ms/step - loss: 0.0092\n",
      "Epoch 85/100\n",
      "38/38 [==============================] - 2s 63ms/step - loss: 0.0092\n",
      "Epoch 86/100\n",
      "38/38 [==============================] - 2s 63ms/step - loss: 0.0102\n",
      "Epoch 87/100\n",
      "38/38 [==============================] - 2s 62ms/step - loss: 0.0096\n",
      "Epoch 88/100\n",
      "38/38 [==============================] - 2s 62ms/step - loss: 0.0092\n",
      "Epoch 89/100\n",
      "38/38 [==============================] - 2s 64ms/step - loss: 0.0084\n",
      "Epoch 90/100\n",
      "38/38 [==============================] - 2s 65ms/step - loss: 0.0085\n",
      "Epoch 91/100\n",
      "38/38 [==============================] - 2s 62ms/step - loss: 0.0076\n",
      "Epoch 92/100\n",
      "38/38 [==============================] - 2s 62ms/step - loss: 0.0098\n",
      "Epoch 93/100\n",
      "38/38 [==============================] - 2s 63ms/step - loss: 0.0090\n",
      "Epoch 94/100\n",
      "38/38 [==============================] - 2s 63ms/step - loss: 0.0093\n",
      "Epoch 95/100\n",
      "38/38 [==============================] - 2s 63ms/step - loss: 0.0107\n",
      "Epoch 96/100\n",
      "38/38 [==============================] - 2s 63ms/step - loss: 0.0093\n",
      "Epoch 97/100\n",
      "38/38 [==============================] - 2s 64ms/step - loss: 0.0081\n",
      "Epoch 98/100\n",
      "38/38 [==============================] - 3s 67ms/step - loss: 0.0088\n",
      "Epoch 99/100\n",
      "38/38 [==============================] - 3s 70ms/step - loss: 0.0091\n",
      "Epoch 100/100\n"
     ]
    },
    {
     "name": "stdout",
     "output_type": "stream",
     "text": [
      "38/38 [==============================] - 3s 72ms/step - loss: 0.0084\n"
     ]
    },
    {
     "data": {
      "text/plain": [
       "<keras.callbacks.History at 0x1c0418c8820>"
      ]
     },
     "execution_count": 70,
     "metadata": {},
     "output_type": "execute_result"
    }
   ],
   "source": [
    "#100 iteraciones, de 32 datos\n",
    "regresor.fit(X_train, y_train,epochs=100,batch_size=32)"
   ]
  },
  {
   "cell_type": "code",
   "execution_count": 72,
   "id": "3bc3456d",
   "metadata": {},
   "outputs": [],
   "source": [
    "data_test = pd.read_csv('Google_Stock_Price_Test.csv')"
   ]
  },
  {
   "cell_type": "code",
   "execution_count": 73,
   "id": "95f7850a",
   "metadata": {},
   "outputs": [
    {
     "data": {
      "text/html": [
       "<div>\n",
       "<style scoped>\n",
       "    .dataframe tbody tr th:only-of-type {\n",
       "        vertical-align: middle;\n",
       "    }\n",
       "\n",
       "    .dataframe tbody tr th {\n",
       "        vertical-align: top;\n",
       "    }\n",
       "\n",
       "    .dataframe thead th {\n",
       "        text-align: right;\n",
       "    }\n",
       "</style>\n",
       "<table border=\"1\" class=\"dataframe\">\n",
       "  <thead>\n",
       "    <tr style=\"text-align: right;\">\n",
       "      <th></th>\n",
       "      <th>Date</th>\n",
       "      <th>Open</th>\n",
       "      <th>High</th>\n",
       "      <th>Low</th>\n",
       "      <th>Close</th>\n",
       "      <th>Volume</th>\n",
       "    </tr>\n",
       "  </thead>\n",
       "  <tbody>\n",
       "    <tr>\n",
       "      <th>0</th>\n",
       "      <td>1/3/2017</td>\n",
       "      <td>778.81</td>\n",
       "      <td>789.63</td>\n",
       "      <td>775.80</td>\n",
       "      <td>786.14</td>\n",
       "      <td>1,657,300</td>\n",
       "    </tr>\n",
       "    <tr>\n",
       "      <th>1</th>\n",
       "      <td>1/4/2017</td>\n",
       "      <td>788.36</td>\n",
       "      <td>791.34</td>\n",
       "      <td>783.16</td>\n",
       "      <td>786.90</td>\n",
       "      <td>1,073,000</td>\n",
       "    </tr>\n",
       "    <tr>\n",
       "      <th>2</th>\n",
       "      <td>1/5/2017</td>\n",
       "      <td>786.08</td>\n",
       "      <td>794.48</td>\n",
       "      <td>785.02</td>\n",
       "      <td>794.02</td>\n",
       "      <td>1,335,200</td>\n",
       "    </tr>\n",
       "    <tr>\n",
       "      <th>3</th>\n",
       "      <td>1/6/2017</td>\n",
       "      <td>795.26</td>\n",
       "      <td>807.90</td>\n",
       "      <td>792.20</td>\n",
       "      <td>806.15</td>\n",
       "      <td>1,640,200</td>\n",
       "    </tr>\n",
       "    <tr>\n",
       "      <th>4</th>\n",
       "      <td>1/9/2017</td>\n",
       "      <td>806.40</td>\n",
       "      <td>809.97</td>\n",
       "      <td>802.83</td>\n",
       "      <td>806.65</td>\n",
       "      <td>1,272,400</td>\n",
       "    </tr>\n",
       "  </tbody>\n",
       "</table>\n",
       "</div>"
      ],
      "text/plain": [
       "       Date    Open    High     Low   Close     Volume\n",
       "0  1/3/2017  778.81  789.63  775.80  786.14  1,657,300\n",
       "1  1/4/2017  788.36  791.34  783.16  786.90  1,073,000\n",
       "2  1/5/2017  786.08  794.48  785.02  794.02  1,335,200\n",
       "3  1/6/2017  795.26  807.90  792.20  806.15  1,640,200\n",
       "4  1/9/2017  806.40  809.97  802.83  806.65  1,272,400"
      ]
     },
     "execution_count": 73,
     "metadata": {},
     "output_type": "execute_result"
    }
   ],
   "source": [
    "data_test.head()"
   ]
  },
  {
   "cell_type": "code",
   "execution_count": 74,
   "id": "f9f191d4",
   "metadata": {},
   "outputs": [],
   "source": [
    "real_stock_price = data_test.iloc[:,1:2].values"
   ]
  },
  {
   "cell_type": "code",
   "execution_count": 75,
   "id": "5e5ff04d",
   "metadata": {},
   "outputs": [
    {
     "data": {
      "text/plain": [
       "array([[778.81],\n",
       "       [788.36],\n",
       "       [786.08],\n",
       "       [795.26],\n",
       "       [806.4 ],\n",
       "       [807.86],\n",
       "       [805.  ],\n",
       "       [807.14],\n",
       "       [807.48],\n",
       "       [807.08],\n",
       "       [805.81],\n",
       "       [805.12],\n",
       "       [806.91],\n",
       "       [807.25],\n",
       "       [822.3 ],\n",
       "       [829.62],\n",
       "       [837.81],\n",
       "       [834.71],\n",
       "       [814.66],\n",
       "       [796.86]])"
      ]
     },
     "execution_count": 75,
     "metadata": {},
     "output_type": "execute_result"
    }
   ],
   "source": [
    "real_stock_price"
   ]
  },
  {
   "cell_type": "code",
   "execution_count": 76,
   "id": "2512488d",
   "metadata": {},
   "outputs": [
    {
     "data": {
      "text/plain": [
       "(20, 1)"
      ]
     },
     "execution_count": 76,
     "metadata": {},
     "output_type": "execute_result"
    }
   ],
   "source": [
    "real_stock_price.shape"
   ]
  },
  {
   "cell_type": "markdown",
   "id": "fb484f8c",
   "metadata": {},
   "source": [
    "# Predecir las acciones de 2017 de google"
   ]
  },
  {
   "cell_type": "code",
   "execution_count": 77,
   "id": "96906570",
   "metadata": {},
   "outputs": [],
   "source": [
    "#Necesitamos los 60 dias anteriores de 2016, ya que así lo hemos estado trabajando, para obtener los días correlativos\n",
    "#Concatenamos los 2 datasets\n",
    "#Podemos concatenar solo una fila\n",
    "dataset_total = pd.concat((data_train['Open'], data_test['Open']),axis=0) # 0 para columnas"
   ]
  },
  {
   "cell_type": "code",
   "execution_count": 80,
   "id": "897c600e",
   "metadata": {},
   "outputs": [
    {
     "data": {
      "text/plain": [
       "0    325.25\n",
       "1    331.27\n",
       "2    329.83\n",
       "3    328.34\n",
       "4    322.04\n",
       "Name: Open, dtype: float64"
      ]
     },
     "execution_count": 80,
     "metadata": {},
     "output_type": "execute_result"
    }
   ],
   "source": [
    "dataset_total.head()"
   ]
  },
  {
   "cell_type": "code",
   "execution_count": 87,
   "id": "59783092",
   "metadata": {},
   "outputs": [],
   "source": [
    "#1258-20, limite inferior, ultimo día de 2016 -60, 60 días antes\n",
    "inputs = dataset_total[len(dataset_total)-len(data_test)-60:].values # de ahí en adelante\n",
    "#ahora tenemos los ultimos 60 días de 2016 y los de 2017"
   ]
  },
  {
   "cell_type": "code",
   "execution_count": 89,
   "id": "2bd63706",
   "metadata": {},
   "outputs": [
    {
     "data": {
      "text/plain": [
       "(80,)"
      ]
     },
     "execution_count": 89,
     "metadata": {},
     "output_type": "execute_result"
    }
   ],
   "source": [
    "inputs.shape"
   ]
  },
  {
   "cell_type": "code",
   "execution_count": 90,
   "id": "e2095577",
   "metadata": {},
   "outputs": [
    {
     "data": {
      "text/plain": [
       "array([779.  , 779.66, 777.71, 786.66, 783.76, 781.22, 781.65, 779.8 ,\n",
       "       787.85, 798.24, 803.3 , 795.  , 804.9 , 816.68, 806.34, 801.  ,\n",
       "       808.35, 795.47, 782.89, 778.2 , 767.25, 750.66, 774.5 , 783.4 ,\n",
       "       779.94, 791.17, 756.54, 755.6 , 746.97, 755.2 , 766.92, 771.37,\n",
       "       762.61, 772.63, 767.73, 764.26, 760.  , 771.53, 770.07, 757.44,\n",
       "       744.59, 757.71, 764.73, 761.  , 772.48, 780.  , 785.04, 793.9 ,\n",
       "       797.4 , 797.34, 800.4 , 790.22, 796.76, 795.84, 792.36, 790.9 ,\n",
       "       790.68, 793.7 , 783.33, 782.75, 778.81, 788.36, 786.08, 795.26,\n",
       "       806.4 , 807.86, 805.  , 807.14, 807.48, 807.08, 805.81, 805.12,\n",
       "       806.91, 807.25, 822.3 , 829.62, 837.81, 834.71, 814.66, 796.86])"
      ]
     },
     "execution_count": 90,
     "metadata": {},
     "output_type": "execute_result"
    }
   ],
   "source": [
    "inputs"
   ]
  },
  {
   "cell_type": "code",
   "execution_count": 97,
   "id": "9c92ac8a",
   "metadata": {},
   "outputs": [],
   "source": [
    "#reshape -1,1 cambia  de fila a columna\n",
    "inputs= inputs.reshape(-1,1) #deja la segunda como está, y añade una nueva dimension"
   ]
  },
  {
   "cell_type": "code",
   "execution_count": 99,
   "id": "8aef6a62",
   "metadata": {},
   "outputs": [
    {
     "data": {
      "text/plain": [
       "(80, 1)"
      ]
     },
     "execution_count": 99,
     "metadata": {},
     "output_type": "execute_result"
    }
   ],
   "source": [
    "inputs.shape"
   ]
  },
  {
   "cell_type": "code",
   "execution_count": 98,
   "id": "82610b2c",
   "metadata": {},
   "outputs": [],
   "source": [
    "#No hacemos un fit porque ya tenemos minomo y maximo\n",
    "inputs = sc.transform(inputs)"
   ]
  },
  {
   "cell_type": "code",
   "execution_count": 100,
   "id": "59dc9b72",
   "metadata": {},
   "outputs": [],
   "source": [
    "X_test = []\n",
    "for i in range(60,80): #20 días a predecir\n",
    "    X_test.append(inputs[i-60:i,0])\n",
    "X_test = np.array(X_test)\n",
    "X_test = np.reshape(X_test,(X_test.shape[0],X_test.shape[1],1))"
   ]
  },
  {
   "cell_type": "code",
   "execution_count": 102,
   "id": "d028c069",
   "metadata": {},
   "outputs": [
    {
     "data": {
      "text/plain": [
       "(20, 60, 1)"
      ]
     },
     "execution_count": 102,
     "metadata": {},
     "output_type": "execute_result"
    }
   ],
   "source": [
    "X_test.shape"
   ]
  },
  {
   "cell_type": "code",
   "execution_count": 104,
   "id": "f4f9d9ae",
   "metadata": {},
   "outputs": [],
   "source": [
    "predicted_stock_price = regresor.predict(X_test)\n",
    "#Revertimos el escalado\n",
    "predicted_stock_price = sc.inverse_transform(predicted_stock_price)"
   ]
  },
  {
   "cell_type": "code",
   "execution_count": 105,
   "id": "3360f3df",
   "metadata": {},
   "outputs": [
    {
     "data": {
      "text/plain": [
       "array([[764.20374],\n",
       "       [762.73663],\n",
       "       [761.67737],\n",
       "       [761.49756],\n",
       "       [762.68463],\n",
       "       [765.55695],\n",
       "       [769.3318 ],\n",
       "       [772.514  ],\n",
       "       [774.3182 ],\n",
       "       [774.76825],\n",
       "       [774.3931 ],\n",
       "       [773.7858 ],\n",
       "       [773.38605],\n",
       "       [773.52057],\n",
       "       [774.17993],\n",
       "       [776.09283],\n",
       "       [779.45215],\n",
       "       [783.85864],\n",
       "       [787.868  ],\n",
       "       [789.08545]], dtype=float32)"
      ]
     },
     "execution_count": 105,
     "metadata": {},
     "output_type": "execute_result"
    }
   ],
   "source": [
    "predicted_stock_price"
   ]
  },
  {
   "cell_type": "code",
   "execution_count": 106,
   "id": "d9561b44",
   "metadata": {},
   "outputs": [
    {
     "data": {
      "text/plain": [
       "(20, 1)"
      ]
     },
     "execution_count": 106,
     "metadata": {},
     "output_type": "execute_result"
    }
   ],
   "source": [
    "predicted_stock_price.shape"
   ]
  },
  {
   "cell_type": "code",
   "execution_count": 107,
   "id": "675ea482",
   "metadata": {},
   "outputs": [
    {
     "data": {
      "text/html": [
       "<div>\n",
       "<style scoped>\n",
       "    .dataframe tbody tr th:only-of-type {\n",
       "        vertical-align: middle;\n",
       "    }\n",
       "\n",
       "    .dataframe tbody tr th {\n",
       "        vertical-align: top;\n",
       "    }\n",
       "\n",
       "    .dataframe thead th {\n",
       "        text-align: right;\n",
       "    }\n",
       "</style>\n",
       "<table border=\"1\" class=\"dataframe\">\n",
       "  <thead>\n",
       "    <tr style=\"text-align: right;\">\n",
       "      <th></th>\n",
       "      <th>0</th>\n",
       "    </tr>\n",
       "  </thead>\n",
       "  <tbody>\n",
       "    <tr>\n",
       "      <th>0</th>\n",
       "      <td>764.203735</td>\n",
       "    </tr>\n",
       "    <tr>\n",
       "      <th>1</th>\n",
       "      <td>762.736633</td>\n",
       "    </tr>\n",
       "    <tr>\n",
       "      <th>2</th>\n",
       "      <td>761.677368</td>\n",
       "    </tr>\n",
       "    <tr>\n",
       "      <th>3</th>\n",
       "      <td>761.497559</td>\n",
       "    </tr>\n",
       "    <tr>\n",
       "      <th>4</th>\n",
       "      <td>762.684631</td>\n",
       "    </tr>\n",
       "  </tbody>\n",
       "</table>\n",
       "</div>"
      ],
      "text/plain": [
       "            0\n",
       "0  764.203735\n",
       "1  762.736633\n",
       "2  761.677368\n",
       "3  761.497559\n",
       "4  762.684631"
      ]
     },
     "execution_count": 107,
     "metadata": {},
     "output_type": "execute_result"
    }
   ],
   "source": [
    "pd.DataFrame(predicted_stock_price).head(5)"
   ]
  },
  {
   "cell_type": "markdown",
   "id": "9ebcca27",
   "metadata": {},
   "source": [
    "# Comparamos el precio real con la predicción"
   ]
  },
  {
   "cell_type": "code",
   "execution_count": 112,
   "id": "ff060417",
   "metadata": {},
   "outputs": [
    {
     "data": {
      "image/png": "[encoded data removed]",
      "text/plain": [
       "<Figure size 432x288 with 1 Axes>"
      ]
     },
     "metadata": {
      "needs_background": "light"
     },
     "output_type": "display_data"
    }
   ],
   "source": [
    "plt.plot(real_stock_price,color='red',label='Precio real de accion de google')\n",
    "plt.plot(predicted_stock_price,color='blue',label='Precio predicho de accion de google')\n",
    "plt.title('Prediccion de una RNR del valor de las acciones de google')\n",
    "plt.xlabel('Fecha')\n",
    "plt.ylabel('Precio en dolares')\n",
    "plt.legend()\n",
    "plt.show()"
   ]
  },
  {
   "cell_type": "code",
   "execution_count": null,
   "id": "d1bce910",
   "metadata": {},
   "outputs": [],
   "source": []
  }
 ],
 "metadata": {
  "kernelspec": {
   "display_name": "Python 3",
   "language": "python",
   "name": "python3"
  },
  "language_info": {
   "codemirror_mode": {
    "name": "ipython",
    "version": 3
   },
   "file_extension": ".py",
   "mimetype": "text/x-python",
   "name": "python",
   "nbconvert_exporter": "python",
   "pygments_lexer": "ipython3",
   "version": "3.8.8"
  }
 },
 "nbformat": 4,
 "nbformat_minor": 5
}
