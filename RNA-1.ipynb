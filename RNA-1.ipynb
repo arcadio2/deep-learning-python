{
 "cells": [
  {
   "cell_type": "markdown",
   "id": "9b3ce86c",
   "metadata": {},
   "source": [
    "# Problema de bancos, clasificación"
   ]
  },
  {
   "cell_type": "markdown",
   "id": "bf825da0",
   "metadata": {},
   "source": [
    "## Parte 1: Pre-procesado de datos"
   ]
  },
  {
   "cell_type": "code",
   "execution_count": null,
   "id": "76925000",
   "metadata": {},
   "outputs": [],
   "source": [
    "import numpy as np\n",
    "import pandas as pd\n",
    "import matplotlib.pyplot as plt"
   ]
  }
 ],
 "metadata": {
  "kernelspec": {
   "display_name": "Python 3",
   "language": "python",
   "name": "python3"
  },
  "language_info": {
   "codemirror_mode": {
    "name": "ipython",
    "version": 3
   },
   "file_extension": ".py",
   "mimetype": "text/x-python",
   "name": "python",
   "nbconvert_exporter": "python",
   "pygments_lexer": "ipython3",
   "version": "3.8.8"
  }
 },
 "nbformat": 4,
 "nbformat_minor": 5
}
