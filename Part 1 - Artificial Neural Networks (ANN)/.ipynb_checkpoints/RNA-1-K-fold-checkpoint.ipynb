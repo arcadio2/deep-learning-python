{
 "cells": [
  {
   "cell_type": "markdown",
   "id": "b024b662",
   "metadata": {},
   "source": [
    "# Problema de bancos, clasificación"
   ]
  },
  {
   "cell_type": "markdown",
   "id": "7c08c30e",
   "metadata": {},
   "source": [
    "## Parte 1: Pre-procesado de datos"
   ]
  },
  {
   "cell_type": "code",
   "execution_count": 1,
   "id": "d6dd394d",
   "metadata": {},
   "outputs": [],
   "source": [
    "import numpy as np\n",
    "import pandas as pd\n",
    "import matplotlib.pyplot as plt"
   ]
  },
  {
   "cell_type": "code",
   "execution_count": 3,
   "id": "a3fe8150",
   "metadata": {},
   "outputs": [],
   "source": [
    "%config IPCompleter.greedy = True"
   ]
  },
  {
   "cell_type": "code",
   "execution_count": 4,
   "id": "6efc7cbe",
   "metadata": {},
   "outputs": [],
   "source": [
    "dataset = pd.read_csv(\"Churn_Modelling.csv\")"
   ]
  },
  {
   "cell_type": "code",
   "execution_count": 5,
   "id": "1de4d08d",
   "metadata": {},
   "outputs": [
    {
     "data": {
      "text/html": [
       "<div>\n",
       "<style scoped>\n",
       "    .dataframe tbody tr th:only-of-type {\n",
       "        vertical-align: middle;\n",
       "    }\n",
       "\n",
       "    .dataframe tbody tr th {\n",
       "        vertical-align: top;\n",
       "    }\n",
       "\n",
       "    .dataframe thead th {\n",
       "        text-align: right;\n",
       "    }\n",
       "</style>\n",
       "<table border=\"1\" class=\"dataframe\">\n",
       "  <thead>\n",
       "    <tr style=\"text-align: right;\">\n",
       "      <th></th>\n",
       "      <th>RowNumber</th>\n",
       "      <th>CustomerId</th>\n",
       "      <th>Surname</th>\n",
       "      <th>CreditScore</th>\n",
       "      <th>Geography</th>\n",
       "      <th>Gender</th>\n",
       "      <th>Age</th>\n",
       "      <th>Tenure</th>\n",
       "      <th>Balance</th>\n",
       "      <th>NumOfProducts</th>\n",
       "      <th>HasCrCard</th>\n",
       "      <th>IsActiveMember</th>\n",
       "      <th>EstimatedSalary</th>\n",
       "      <th>Exited</th>\n",
       "    </tr>\n",
       "  </thead>\n",
       "  <tbody>\n",
       "    <tr>\n",
       "      <th>0</th>\n",
       "      <td>1</td>\n",
       "      <td>15634602</td>\n",
       "      <td>Hargrave</td>\n",
       "      <td>619</td>\n",
       "      <td>France</td>\n",
       "      <td>Female</td>\n",
       "      <td>42</td>\n",
       "      <td>2</td>\n",
       "      <td>0.00</td>\n",
       "      <td>1</td>\n",
       "      <td>1</td>\n",
       "      <td>1</td>\n",
       "      <td>101348.88</td>\n",
       "      <td>1</td>\n",
       "    </tr>\n",
       "    <tr>\n",
       "      <th>1</th>\n",
       "      <td>2</td>\n",
       "      <td>15647311</td>\n",
       "      <td>Hill</td>\n",
       "      <td>608</td>\n",
       "      <td>Spain</td>\n",
       "      <td>Female</td>\n",
       "      <td>41</td>\n",
       "      <td>1</td>\n",
       "      <td>83807.86</td>\n",
       "      <td>1</td>\n",
       "      <td>0</td>\n",
       "      <td>1</td>\n",
       "      <td>112542.58</td>\n",
       "      <td>0</td>\n",
       "    </tr>\n",
       "    <tr>\n",
       "      <th>2</th>\n",
       "      <td>3</td>\n",
       "      <td>15619304</td>\n",
       "      <td>Onio</td>\n",
       "      <td>502</td>\n",
       "      <td>France</td>\n",
       "      <td>Female</td>\n",
       "      <td>42</td>\n",
       "      <td>8</td>\n",
       "      <td>159660.80</td>\n",
       "      <td>3</td>\n",
       "      <td>1</td>\n",
       "      <td>0</td>\n",
       "      <td>113931.57</td>\n",
       "      <td>1</td>\n",
       "    </tr>\n",
       "    <tr>\n",
       "      <th>3</th>\n",
       "      <td>4</td>\n",
       "      <td>15701354</td>\n",
       "      <td>Boni</td>\n",
       "      <td>699</td>\n",
       "      <td>France</td>\n",
       "      <td>Female</td>\n",
       "      <td>39</td>\n",
       "      <td>1</td>\n",
       "      <td>0.00</td>\n",
       "      <td>2</td>\n",
       "      <td>0</td>\n",
       "      <td>0</td>\n",
       "      <td>93826.63</td>\n",
       "      <td>0</td>\n",
       "    </tr>\n",
       "    <tr>\n",
       "      <th>4</th>\n",
       "      <td>5</td>\n",
       "      <td>15737888</td>\n",
       "      <td>Mitchell</td>\n",
       "      <td>850</td>\n",
       "      <td>Spain</td>\n",
       "      <td>Female</td>\n",
       "      <td>43</td>\n",
       "      <td>2</td>\n",
       "      <td>125510.82</td>\n",
       "      <td>1</td>\n",
       "      <td>1</td>\n",
       "      <td>1</td>\n",
       "      <td>79084.10</td>\n",
       "      <td>0</td>\n",
       "    </tr>\n",
       "    <tr>\n",
       "      <th>5</th>\n",
       "      <td>6</td>\n",
       "      <td>15574012</td>\n",
       "      <td>Chu</td>\n",
       "      <td>645</td>\n",
       "      <td>Spain</td>\n",
       "      <td>Male</td>\n",
       "      <td>44</td>\n",
       "      <td>8</td>\n",
       "      <td>113755.78</td>\n",
       "      <td>2</td>\n",
       "      <td>1</td>\n",
       "      <td>0</td>\n",
       "      <td>149756.71</td>\n",
       "      <td>1</td>\n",
       "    </tr>\n",
       "  </tbody>\n",
       "</table>\n",
       "</div>"
      ],
      "text/plain": [
       "   RowNumber  CustomerId   Surname  CreditScore Geography  Gender  Age  \\\n",
       "0          1    15634602  Hargrave          619    France  Female   42   \n",
       "1          2    15647311      Hill          608     Spain  Female   41   \n",
       "2          3    15619304      Onio          502    France  Female   42   \n",
       "3          4    15701354      Boni          699    France  Female   39   \n",
       "4          5    15737888  Mitchell          850     Spain  Female   43   \n",
       "5          6    15574012       Chu          645     Spain    Male   44   \n",
       "\n",
       "   Tenure    Balance  NumOfProducts  HasCrCard  IsActiveMember  \\\n",
       "0       2       0.00              1          1               1   \n",
       "1       1   83807.86              1          0               1   \n",
       "2       8  159660.80              3          1               0   \n",
       "3       1       0.00              2          0               0   \n",
       "4       2  125510.82              1          1               1   \n",
       "5       8  113755.78              2          1               0   \n",
       "\n",
       "   EstimatedSalary  Exited  \n",
       "0        101348.88       1  \n",
       "1        112542.58       0  \n",
       "2        113931.57       1  \n",
       "3         93826.63       0  \n",
       "4         79084.10       0  \n",
       "5        149756.71       1  "
      ]
     },
     "execution_count": 5,
     "metadata": {},
     "output_type": "execute_result"
    }
   ],
   "source": [
    "dataset.head(6)"
   ]
  },
  {
   "cell_type": "code",
   "execution_count": 6,
   "id": "c511ddbd",
   "metadata": {},
   "outputs": [],
   "source": [
    "#X = dataset.iloc[:,[3,4,5,6,7,..,13]] #dependientes desde creditScore de la 3 a la 12\n",
    "            #filas, columnas\n",
    "X = dataset.iloc[:, 3:13 ].values  # values convierte a array\n",
    "Y = dataset[\"Exited\"]"
   ]
  },
  {
   "cell_type": "markdown",
   "id": "71d95818",
   "metadata": {},
   "source": [
    "#### Datos categoricos"
   ]
  },
  {
   "cell_type": "code",
   "execution_count": 7,
   "id": "60428623",
   "metadata": {},
   "outputs": [],
   "source": [
    "from sklearn.preprocessing import LabelEncoder, OneHotEncoder\n",
    "from sklearn.compose import ColumnTransformer"
   ]
  },
  {
   "cell_type": "code",
   "execution_count": 8,
   "id": "b09b8f04",
   "metadata": {},
   "outputs": [],
   "source": [
    "label_encoder_X_1 = LabelEncoder()  # es nuestra funcion transoformara la columna numero 1 a dummies\n",
    "X[:,1] = label_encoder_X_1.fit_transform(X[:,1]) \n",
    "label_encoder_X_2 = LabelEncoder() \n",
    "X[:,2] = label_encoder_X_1.fit_transform(X[:,2]) #genero\n",
    "#colocamos una columna para cada dummie, OneHotEncoder se encarga de eso"
   ]
  },
  {
   "cell_type": "code",
   "execution_count": 9,
   "id": "f8ee2f06",
   "metadata": {},
   "outputs": [],
   "source": [
    "# transoforma a 0 o 1 categorias, 0 o 1 si pertenece a tal pais por ejemplo\n",
    "transformer = ColumnTransformer(\n",
    "    transformers=[\n",
    "        (\"Churn_Modelling\",        # Un nombre de la transformación\n",
    "         OneHotEncoder(categories='auto'), # La clase a la que transformar\n",
    "         [1]            # Las columnas a transformar.\n",
    "         )\n",
    "    ], remainder='passthrough'\n",
    ")\n",
    "X = transformer.fit_transform(X)\n",
    "X = X[:, 1:] # todas las filas, todas las columnas, pero se debe prescindir de una de las 3, prescindimos de Francia"
   ]
  },
  {
   "cell_type": "code",
   "execution_count": 10,
   "id": "41cf8fe8",
   "metadata": {},
   "outputs": [
    {
     "name": "stdout",
     "output_type": "stream",
     "text": [
      "[0.0 0.0 822 1 50 7 0.0 2 1 1 10062.8]\n"
     ]
    },
    {
     "data": {
      "text/plain": [
       "(10000, 11)"
      ]
     },
     "execution_count": 10,
     "metadata": {},
     "output_type": "execute_result"
    }
   ],
   "source": [
    "# transoforma a 0 o 1 categorias, 0 o 1 si pertenece a tal pais por ejemplo\n",
    "#oneHotEncoder = OneHotEncoder(categories=[1] )  #categoria 1\n",
    "#X = oneHotEncoder.fit_transform(X).toArray()\n",
    "print(X[6]) # las primeras 3 columnas son si pertenecen a algun pais, es 1 o 0. SI es 0 en españa o en el otro, es frances \n",
    "X.shape"
   ]
  },
  {
   "cell_type": "markdown",
   "id": "f00090ab",
   "metadata": {},
   "source": [
    "Conjunto de testing y conjunto de entrenamiento"
   ]
  },
  {
   "cell_type": "code",
   "execution_count": 11,
   "id": "eae57bbd",
   "metadata": {},
   "outputs": [],
   "source": [
    "from sklearn.model_selection import train_test_split"
   ]
  },
  {
   "cell_type": "code",
   "execution_count": 12,
   "id": "ab2666ee",
   "metadata": {},
   "outputs": [],
   "source": [
    "X_train,X_test,Y_train,Y_test = train_test_split(X,Y,test_size=0.2,random_state=0) #20% de test"
   ]
  },
  {
   "cell_type": "code",
   "execution_count": 13,
   "id": "094cec12",
   "metadata": {},
   "outputs": [
    {
     "name": "stdout",
     "output_type": "stream",
     "text": [
      "[[0.0 1.0 667 ... 1 0 163830.64]\n",
      " [1.0 0.0 427 ... 1 1 57098.0]\n",
      " [0.0 0.0 535 ... 1 0 185630.76]\n",
      " ...\n",
      " [0.0 0.0 738 ... 1 0 181429.87]\n",
      " [0.0 1.0 590 ... 1 1 148750.16]\n",
      " [1.0 0.0 623 ... 1 0 118855.26]]\n",
      "_____________________________________\n",
      "[[1.0 0.0 597 ... 1 1 192852.67]\n",
      " [0.0 0.0 523 ... 1 0 128702.1]\n",
      " [0.0 1.0 706 ... 1 1 75732.25]\n",
      " ...\n",
      " [0.0 1.0 578 ... 1 0 141533.19]\n",
      " [1.0 0.0 650 ... 1 1 11276.48]\n",
      " [1.0 0.0 573 ... 1 0 192950.6]]\n"
     ]
    }
   ],
   "source": [
    "print(X_train)\n",
    "print(\"_____________________________________\")\n",
    "print(X_test)"
   ]
  },
  {
   "cell_type": "markdown",
   "id": "8e41c20c",
   "metadata": {},
   "source": [
    "### Hacemos que ninguna variable domine sobre el resto, escalado de variables a x_test y x_train"
   ]
  },
  {
   "cell_type": "code",
   "execution_count": 14,
   "id": "d5f08311",
   "metadata": {},
   "outputs": [],
   "source": [
    "from sklearn.preprocessing import StandardScaler"
   ]
  },
  {
   "cell_type": "code",
   "execution_count": 15,
   "id": "a7e24f1d",
   "metadata": {},
   "outputs": [],
   "source": [
    "sc_X = StandardScaler() # para las x\n",
    "X_train = sc_X.fit_transform(X_train) # ya están estaraziadas en entrenamiento. Aplica un cambio de escala\n",
    "X_test = sc_X.transform(X_test) #la linea anterior se aplica al conjunto de test, por eso solo el transform"
   ]
  },
  {
   "cell_type": "code",
   "execution_count": 16,
   "id": "bb145af0",
   "metadata": {},
   "outputs": [
    {
     "name": "stdout",
     "output_type": "stream",
     "text": [
      "[[-0.5698444   1.74309049  0.16958176 ...  0.64259497 -1.03227043\n",
      "   1.10643166]\n",
      " [ 1.75486502 -0.57369368 -2.30455945 ...  0.64259497  0.9687384\n",
      "  -0.74866447]\n",
      " [-0.5698444  -0.57369368 -1.19119591 ...  0.64259497 -1.03227043\n",
      "   1.48533467]\n",
      " ...\n",
      " [-0.5698444  -0.57369368  0.9015152  ...  0.64259497 -1.03227043\n",
      "   1.41231994]\n",
      " [-0.5698444   1.74309049 -0.62420521 ...  0.64259497  0.9687384\n",
      "   0.84432121]\n",
      " [ 1.75486502 -0.57369368 -0.28401079 ...  0.64259497 -1.03227043\n",
      "   0.32472465]]\n",
      "_____________________________________\n",
      "[[ 1.75486502 -0.57369368 -0.55204276 ...  0.64259497  0.9687384\n",
      "   1.61085707]\n",
      " [-0.5698444  -0.57369368 -1.31490297 ...  0.64259497 -1.03227043\n",
      "   0.49587037]\n",
      " [-0.5698444   1.74309049  0.57162971 ...  0.64259497  0.9687384\n",
      "  -0.42478674]\n",
      " ...\n",
      " [-0.5698444   1.74309049 -0.74791227 ...  0.64259497 -1.03227043\n",
      "   0.71888467]\n",
      " [ 1.75486502 -0.57369368 -0.00566991 ...  0.64259497  0.9687384\n",
      "  -1.54507805]\n",
      " [ 1.75486502 -0.57369368 -0.79945688 ...  0.64259497 -1.03227043\n",
      "   1.61255917]]\n"
     ]
    }
   ],
   "source": [
    "print(X_train)\n",
    "print(\"_____________________________________\")\n",
    "print(X_test)"
   ]
  },
  {
   "cell_type": "markdown",
   "id": "267a5907",
   "metadata": {},
   "source": [
    "## Parte 2.- Construcción de la red neuronal"
   ]
  },
  {
   "cell_type": "code",
   "execution_count": 17,
   "id": "ce285339",
   "metadata": {},
   "outputs": [],
   "source": [
    "import keras\n",
    "from keras.models import Sequential #inicialia los paramtros de la red\n",
    "from keras.layers import Dense #crea las capas de la red,e inicializa los pesos cercanos a 0"
   ]
  },
  {
   "cell_type": "markdown",
   "id": "7b946cb1",
   "metadata": {},
   "source": [
    "### Inicializar la red neuronal"
   ]
  },
  {
   "cell_type": "code",
   "execution_count": 18,
   "id": "948b7c4b",
   "metadata": {},
   "outputs": [],
   "source": [
    "#La red neuronal va a clasificar\n",
    "classifier = Sequential()"
   ]
  },
  {
   "cell_type": "markdown",
   "id": "39816b42",
   "metadata": {},
   "source": [
    "### Añadir las capas de entrada y la primer capa oculta de la red neuronal"
   ]
  },
  {
   "cell_type": "code",
   "execution_count": 19,
   "id": "304130c9",
   "metadata": {},
   "outputs": [],
   "source": [
    "#se especifica la capa. La capa de salida (parametro de salida), la media entre las entradas y la salida, en el caso es 6\n",
    "#kernel_initializer establece con que distribución se inicialian los pesos\n",
    "#activation, que funcion de activation se hace en la capa oculta, relu es reactificador lineal max(0,x)\n",
    "#input_dim la dimension de entrada\n",
    "classifier.add(Dense(units=6,kernel_initializer='uniform',activation='relu',input_dim=11))"
   ]
  },
  {
   "cell_type": "code",
   "execution_count": 20,
   "id": "4437fab1",
   "metadata": {},
   "outputs": [],
   "source": [
    "#La red ya sabe que viene de un espacio dimensional de 6, es decir 11\n",
    "#Seguimos con rectificador lineal unitaria\n",
    "classifier.add(Dense(units=6,kernel_initializer='uniform',activation='relu'))"
   ]
  },
  {
   "cell_type": "markdown",
   "id": "063ffea1",
   "metadata": {},
   "source": [
    "### Añadimos la capa de salida"
   ]
  },
  {
   "cell_type": "code",
   "execution_count": 21,
   "id": "5eb3fda9",
   "metadata": {},
   "outputs": [],
   "source": [
    "#Añadir la capa de salida\n",
    "#Solo hay un nodo en la capa de salida. Como es 0 o 1 usamos sigmoidea\n",
    "#le ponemos 1 pq es si o no\n",
    "classifier.add(Dense(units=1,kernel_initializer='uniform',activation='sigmoid')) "
   ]
  },
  {
   "cell_type": "markdown",
   "id": "cbea6c4b",
   "metadata": {},
   "source": [
    "### Compilar la red neuronal artificial"
   ]
  },
  {
   "cell_type": "code",
   "execution_count": 22,
   "id": "808c4b2f",
   "metadata": {},
   "outputs": [],
   "source": [
    "#optimizer, algoritmo para encontrar el optimo de pesos, puede ser el gradiente descendiente\n",
    "#loss es la funcion de perdidas, permite minimizar el error, es la funcion de la C\n",
    "#binary cross entropy hace la diferencia y aplica un logaritmo al resultado, para transformar categoria en numeros\n",
    "#accuracy hace que la precision aumente de una iteracion a otra\n",
    "classifier.compile(optimizer=\"adam\",loss=\"binary_crossentropy\",metrics=[\"accuracy\"]) #Compila nuestra red neuronal"
   ]
  },
  {
   "cell_type": "markdown",
   "id": "0ea9d9c4",
   "metadata": {},
   "source": [
    "### Ajustamos la red neuronal al conjunto de entrenamiento"
   ]
  },
  {
   "cell_type": "code",
   "execution_count": 23,
   "id": "07596efa",
   "metadata": {},
   "outputs": [
    {
     "name": "stdout",
     "output_type": "stream",
     "text": [
      "Epoch 1/100\n",
      "800/800 [==============================] - 2s 1ms/step - loss: 0.4777 - accuracy: 0.7960: 0s - loss:\n",
      "Epoch 2/100\n",
      "800/800 [==============================] - 1s 916us/step - loss: 0.4281 - accuracy: 0.7960\n",
      "Epoch 3/100\n",
      "800/800 [==============================] - 1s 890us/step - loss: 0.4225 - accuracy: 0.7974\n",
      "Epoch 4/100\n",
      "800/800 [==============================] - 1s 859us/step - loss: 0.4188 - accuracy: 0.8221\n",
      "Epoch 5/100\n",
      "800/800 [==============================] - 1s 874us/step - loss: 0.4158 - accuracy: 0.8288\n",
      "Epoch 6/100\n",
      "800/800 [==============================] - 1s 872us/step - loss: 0.4137 - accuracy: 0.8307\n",
      "Epoch 7/100\n",
      "800/800 [==============================] - 1s 922us/step - loss: 0.4124 - accuracy: 0.8319\n",
      "Epoch 8/100\n",
      "800/800 [==============================] - 1s 916us/step - loss: 0.4112 - accuracy: 0.8326\n",
      "Epoch 9/100\n",
      "800/800 [==============================] - 1s 866us/step - loss: 0.4104 - accuracy: 0.8356\n",
      "Epoch 10/100\n",
      "800/800 [==============================] - 1s 899us/step - loss: 0.4093 - accuracy: 0.8342\n",
      "Epoch 11/100\n",
      "800/800 [==============================] - 1s 892us/step - loss: 0.4084 - accuracy: 0.8342\n",
      "Epoch 12/100\n",
      "800/800 [==============================] - 1s 870us/step - loss: 0.4077 - accuracy: 0.8354\n",
      "Epoch 13/100\n",
      "800/800 [==============================] - 1s 895us/step - loss: 0.4064 - accuracy: 0.8354\n",
      "Epoch 14/100\n",
      "800/800 [==============================] - 1s 879us/step - loss: 0.4066 - accuracy: 0.8347\n",
      "Epoch 15/100\n",
      "800/800 [==============================] - 1s 904us/step - loss: 0.4056 - accuracy: 0.8350\n",
      "Epoch 16/100\n",
      "800/800 [==============================] - 1s 936us/step - loss: 0.4054 - accuracy: 0.8354\n",
      "Epoch 17/100\n",
      "800/800 [==============================] - 1s 879us/step - loss: 0.4045 - accuracy: 0.8349\n",
      "Epoch 18/100\n",
      "800/800 [==============================] - 1s 899us/step - loss: 0.4051 - accuracy: 0.8349\n",
      "Epoch 19/100\n",
      "800/800 [==============================] - 1s 864us/step - loss: 0.4043 - accuracy: 0.8344\n",
      "Epoch 20/100\n",
      "800/800 [==============================] - 1s 927us/step - loss: 0.4040 - accuracy: 0.8349\n",
      "Epoch 21/100\n",
      "800/800 [==============================] - 1s 899us/step - loss: 0.4042 - accuracy: 0.8354\n",
      "Epoch 22/100\n",
      "800/800 [==============================] - 1s 1ms/step - loss: 0.4036 - accuracy: 0.8351\n",
      "Epoch 23/100\n",
      "800/800 [==============================] - 1s 1ms/step - loss: 0.4036 - accuracy: 0.8340\n",
      "Epoch 24/100\n",
      "800/800 [==============================] - 1s 1ms/step - loss: 0.4031 - accuracy: 0.8340\n",
      "Epoch 25/100\n",
      "800/800 [==============================] - 1s 900us/step - loss: 0.4031 - accuracy: 0.8341\n",
      "Epoch 26/100\n",
      "800/800 [==============================] - 1s 895us/step - loss: 0.4029 - accuracy: 0.8354\n",
      "Epoch 27/100\n",
      "800/800 [==============================] - 1s 849us/step - loss: 0.4029 - accuracy: 0.8355\n",
      "Epoch 28/100\n",
      "800/800 [==============================] - 1s 880us/step - loss: 0.4022 - accuracy: 0.8344\n",
      "Epoch 29/100\n",
      "800/800 [==============================] - 1s 850us/step - loss: 0.4022 - accuracy: 0.8357\n",
      "Epoch 30/100\n",
      "800/800 [==============================] - 1s 867us/step - loss: 0.4022 - accuracy: 0.8355\n",
      "Epoch 31/100\n",
      "800/800 [==============================] - 1s 889us/step - loss: 0.4024 - accuracy: 0.8347\n",
      "Epoch 32/100\n",
      "800/800 [==============================] - 1s 854us/step - loss: 0.4023 - accuracy: 0.8354\n",
      "Epoch 33/100\n",
      "800/800 [==============================] - 1s 897us/step - loss: 0.4016 - accuracy: 0.8350\n",
      "Epoch 34/100\n",
      "800/800 [==============================] - 1s 880us/step - loss: 0.4023 - accuracy: 0.8336\n",
      "Epoch 35/100\n",
      "800/800 [==============================] - 1s 869us/step - loss: 0.4017 - accuracy: 0.8350\n",
      "Epoch 36/100\n",
      "800/800 [==============================] - 1s 866us/step - loss: 0.4013 - accuracy: 0.8353\n",
      "Epoch 37/100\n",
      "800/800 [==============================] - 1s 849us/step - loss: 0.4017 - accuracy: 0.8355\n",
      "Epoch 38/100\n",
      "800/800 [==============================] - 1s 881us/step - loss: 0.4015 - accuracy: 0.8353\n",
      "Epoch 39/100\n",
      "800/800 [==============================] - 1s 869us/step - loss: 0.4015 - accuracy: 0.8340\n",
      "Epoch 40/100\n",
      "800/800 [==============================] - 1s 851us/step - loss: 0.4009 - accuracy: 0.8351\n",
      "Epoch 41/100\n",
      "800/800 [==============================] - 1s 875us/step - loss: 0.4014 - accuracy: 0.8354\n",
      "Epoch 42/100\n",
      "800/800 [==============================] - 1s 865us/step - loss: 0.4014 - accuracy: 0.8341\n",
      "Epoch 43/100\n",
      "800/800 [==============================] - 1s 864us/step - loss: 0.4011 - accuracy: 0.8361\n",
      "Epoch 44/100\n",
      "800/800 [==============================] - 1s 876us/step - loss: 0.4005 - accuracy: 0.8346\n",
      "Epoch 45/100\n",
      "800/800 [==============================] - 1s 857us/step - loss: 0.4003 - accuracy: 0.8356\n",
      "Epoch 46/100\n",
      "800/800 [==============================] - 1s 902us/step - loss: 0.4003 - accuracy: 0.8357\n",
      "Epoch 47/100\n",
      "800/800 [==============================] - 1s 1ms/step - loss: 0.4006 - accuracy: 0.8351\n",
      "Epoch 48/100\n",
      "800/800 [==============================] - 1s 1ms/step - loss: 0.4006 - accuracy: 0.8354\n",
      "Epoch 49/100\n",
      "800/800 [==============================] - 1s 1ms/step - loss: 0.4003 - accuracy: 0.8355\n",
      "Epoch 50/100\n",
      "800/800 [==============================] - 1s 1ms/step - loss: 0.4000 - accuracy: 0.8360\n",
      "Epoch 51/100\n",
      "800/800 [==============================] - 1s 987us/step - loss: 0.3997 - accuracy: 0.8357\n",
      "Epoch 52/100\n",
      "800/800 [==============================] - 1s 1ms/step - loss: 0.4002 - accuracy: 0.8364\n",
      "Epoch 53/100\n",
      "800/800 [==============================] - 1s 990us/step - loss: 0.3998 - accuracy: 0.8371\n",
      "Epoch 54/100\n",
      "800/800 [==============================] - 1s 945us/step - loss: 0.3995 - accuracy: 0.8367\n",
      "Epoch 55/100\n",
      "800/800 [==============================] - 1s 1ms/step - loss: 0.3999 - accuracy: 0.8372\n",
      "Epoch 56/100\n",
      "800/800 [==============================] - 1s 1ms/step - loss: 0.3992 - accuracy: 0.8353\n",
      "Epoch 57/100\n",
      "800/800 [==============================] - 1s 1ms/step - loss: 0.4000 - accuracy: 0.8360\n",
      "Epoch 58/100\n",
      "800/800 [==============================] - 1s 1ms/step - loss: 0.3995 - accuracy: 0.8354\n",
      "Epoch 59/100\n",
      "800/800 [==============================] - 1s 894us/step - loss: 0.3989 - accuracy: 0.8359\n",
      "Epoch 60/100\n",
      "800/800 [==============================] - 1s 974us/step - loss: 0.3999 - accuracy: 0.8336\n",
      "Epoch 61/100\n",
      "800/800 [==============================] - 1s 1ms/step - loss: 0.3998 - accuracy: 0.8356\n",
      "Epoch 62/100\n",
      "800/800 [==============================] - 1s 1ms/step - loss: 0.3996 - accuracy: 0.8361\n",
      "Epoch 63/100\n",
      "800/800 [==============================] - 1s 1ms/step - loss: 0.3994 - accuracy: 0.8363\n",
      "Epoch 64/100\n",
      "800/800 [==============================] - 1s 1ms/step - loss: 0.3992 - accuracy: 0.8375\n",
      "Epoch 65/100\n",
      "800/800 [==============================] - 1s 996us/step - loss: 0.3994 - accuracy: 0.8363\n",
      "Epoch 66/100\n",
      "800/800 [==============================] - 1s 995us/step - loss: 0.3992 - accuracy: 0.8370\n",
      "Epoch 67/100\n",
      "800/800 [==============================] - 1s 981us/step - loss: 0.3993 - accuracy: 0.8356\n",
      "Epoch 68/100\n",
      "800/800 [==============================] - 1s 1ms/step - loss: 0.3990 - accuracy: 0.8359\n",
      "Epoch 69/100\n",
      "800/800 [==============================] - 1s 991us/step - loss: 0.3989 - accuracy: 0.8355\n",
      "Epoch 70/100\n",
      "800/800 [==============================] - 1s 966us/step - loss: 0.3988 - accuracy: 0.8367\n",
      "Epoch 71/100\n",
      "800/800 [==============================] - 1s 1ms/step - loss: 0.3993 - accuracy: 0.8347\n",
      "Epoch 72/100\n",
      "800/800 [==============================] - 1s 975us/step - loss: 0.3986 - accuracy: 0.8350\n",
      "Epoch 73/100\n",
      "800/800 [==============================] - 1s 982us/step - loss: 0.3993 - accuracy: 0.8357\n",
      "Epoch 74/100\n",
      "800/800 [==============================] - 1s 959us/step - loss: 0.3984 - accuracy: 0.8342\n",
      "Epoch 75/100\n",
      "800/800 [==============================] - 1s 962us/step - loss: 0.3988 - accuracy: 0.8367\n",
      "Epoch 76/100\n",
      "800/800 [==============================] - 1s 919us/step - loss: 0.3994 - accuracy: 0.8361\n",
      "Epoch 77/100\n",
      "800/800 [==============================] - 1s 969us/step - loss: 0.3990 - accuracy: 0.8349\n",
      "Epoch 78/100\n",
      "800/800 [==============================] - 1s 969us/step - loss: 0.3990 - accuracy: 0.8378\n",
      "Epoch 79/100\n",
      "800/800 [==============================] - 1s 965us/step - loss: 0.3994 - accuracy: 0.8339\n",
      "Epoch 80/100\n"
     ]
    },
    {
     "name": "stdout",
     "output_type": "stream",
     "text": [
      "800/800 [==============================] - 1s 980us/step - loss: 0.3992 - accuracy: 0.8359\n",
      "Epoch 81/100\n",
      "800/800 [==============================] - 1s 920us/step - loss: 0.3986 - accuracy: 0.8363\n",
      "Epoch 82/100\n",
      "800/800 [==============================] - 1s 946us/step - loss: 0.3986 - accuracy: 0.8364\n",
      "Epoch 83/100\n",
      "800/800 [==============================] - 1s 979us/step - loss: 0.3977 - accuracy: 0.8351\n",
      "Epoch 84/100\n",
      "800/800 [==============================] - 1s 964us/step - loss: 0.3990 - accuracy: 0.8375\n",
      "Epoch 85/100\n",
      "800/800 [==============================] - 1s 1ms/step - loss: 0.3988 - accuracy: 0.8354\n",
      "Epoch 86/100\n",
      "800/800 [==============================] - 1s 942us/step - loss: 0.3992 - accuracy: 0.8351\n",
      "Epoch 87/100\n",
      "800/800 [==============================] - 1s 952us/step - loss: 0.3989 - accuracy: 0.8347\n",
      "Epoch 88/100\n",
      "800/800 [==============================] - 1s 955us/step - loss: 0.3990 - accuracy: 0.8350\n",
      "Epoch 89/100\n",
      "800/800 [==============================] - 1s 930us/step - loss: 0.3985 - accuracy: 0.8374\n",
      "Epoch 90/100\n",
      "800/800 [==============================] - 1s 952us/step - loss: 0.3988 - accuracy: 0.8370\n",
      "Epoch 91/100\n",
      "800/800 [==============================] - 1s 961us/step - loss: 0.3987 - accuracy: 0.8350\n",
      "Epoch 92/100\n",
      "800/800 [==============================] - 1s 959us/step - loss: 0.3986 - accuracy: 0.8351\n",
      "Epoch 93/100\n",
      "800/800 [==============================] - 1s 1ms/step - loss: 0.3990 - accuracy: 0.8359\n",
      "Epoch 94/100\n",
      "800/800 [==============================] - 1s 970us/step - loss: 0.3988 - accuracy: 0.8355\n",
      "Epoch 95/100\n",
      "800/800 [==============================] - 1s 954us/step - loss: 0.3982 - accuracy: 0.8353\n",
      "Epoch 96/100\n",
      "800/800 [==============================] - 1s 904us/step - loss: 0.3988 - accuracy: 0.8346\n",
      "Epoch 97/100\n",
      "800/800 [==============================] - 1s 914us/step - loss: 0.3988 - accuracy: 0.8356\n",
      "Epoch 98/100\n",
      "800/800 [==============================] - 1s 899us/step - loss: 0.3989 - accuracy: 0.8359\n",
      "Epoch 99/100\n",
      "800/800 [==============================] - 1s 906us/step - loss: 0.3988 - accuracy: 0.8366\n",
      "Epoch 100/100\n",
      "800/800 [==============================] - 1s 926us/step - loss: 0.3987 - accuracy: 0.8363\n"
     ]
    },
    {
     "data": {
      "text/plain": [
       "<keras.callbacks.History at 0x228c85dee80>"
      ]
     },
     "execution_count": 23,
     "metadata": {},
     "output_type": "execute_result"
    }
   ],
   "source": [
    "#Enviamos el conjunto de entrenamiento y nuestro y de entrenamiento\n",
    "#procesa 10 elementos y corrige los pesos, es mas rapido que 1 por 1, esto por el minimo global\n",
    "#100 iterationes\n",
    "classifier.fit(X_train,Y_train,batch_size=10,epochs=100)"
   ]
  },
  {
   "cell_type": "markdown",
   "id": "ee9e1508",
   "metadata": {},
   "source": [
    "### Para el caso, tuvimos 83% de precisión en el conjunto de entrenamiento"
   ]
  },
  {
   "cell_type": "markdown",
   "id": "0f42da17",
   "metadata": {},
   "source": [
    "## Parte 3.- Evaluar el modelo y calcular predicciones finales"
   ]
  },
  {
   "cell_type": "code",
   "execution_count": 24,
   "id": "37b2c244",
   "metadata": {},
   "outputs": [],
   "source": [
    "#sacamos las predicciones con el modelo\n",
    "y_pred = classifier.predict(X_test)"
   ]
  },
  {
   "cell_type": "code",
   "execution_count": 25,
   "id": "8df4c8c4",
   "metadata": {},
   "outputs": [
    {
     "data": {
      "text/plain": [
       "array([[0.253756  ],\n",
       "       [0.3552754 ],\n",
       "       [0.07810441],\n",
       "       ...,\n",
       "       [0.1972025 ],\n",
       "       [0.17289239],\n",
       "       [0.14592755]], dtype=float32)"
      ]
     },
     "execution_count": 25,
     "metadata": {},
     "output_type": "execute_result"
    }
   ],
   "source": [
    "#Nos da el resultado en probabilidades, entre menos sea, menos probabilidad de abandonar el banco\n",
    "y_pred"
   ]
  },
  {
   "cell_type": "markdown",
   "id": "15a436f0",
   "metadata": {},
   "source": [
    "Debemos decidir cual es el umbral, a que porcentaje decidimos que si se irá"
   ]
  },
  {
   "cell_type": "code",
   "execution_count": 26,
   "id": "f4724ed9",
   "metadata": {},
   "outputs": [],
   "source": [
    "#Regresamos como verdadero los mayores al 50%\n",
    "y_pred = (y_pred>0.5)"
   ]
  },
  {
   "cell_type": "code",
   "execution_count": 27,
   "id": "482834d2",
   "metadata": {},
   "outputs": [
    {
     "data": {
      "text/plain": [
       "array([[False],\n",
       "       [False],\n",
       "       [False],\n",
       "       ...,\n",
       "       [False],\n",
       "       [False],\n",
       "       [False]])"
      ]
     },
     "execution_count": 27,
     "metadata": {},
     "output_type": "execute_result"
    }
   ],
   "source": [
    "y_pred"
   ]
  },
  {
   "cell_type": "markdown",
   "id": "f3f3719a",
   "metadata": {},
   "source": [
    "### Hacemos la matriz de confusión"
   ]
  },
  {
   "cell_type": "code",
   "execution_count": 28,
   "id": "6e0a0454",
   "metadata": {},
   "outputs": [],
   "source": [
    "from sklearn.metrics import confusion_matrix"
   ]
  },
  {
   "cell_type": "code",
   "execution_count": 29,
   "id": "c032a6a8",
   "metadata": {},
   "outputs": [],
   "source": [
    "#Creamos la matriz de confusión que nos dará los resultados finales\n",
    "cm = confusion_matrix(Y_test, y_pred) # el conjunto de testing y el que da la prediccion"
   ]
  },
  {
   "cell_type": "code",
   "execution_count": 30,
   "id": "b37e48b1",
   "metadata": {},
   "outputs": [
    {
     "name": "stdout",
     "output_type": "stream",
     "text": [
      "[[1538   57]\n",
      " [ 252  153]]\n"
     ]
    }
   ],
   "source": [
    "print(cm)\n",
    "#1551 + 132 son correctas\n",
    "# 273 +132 predicciones son incorrectas"
   ]
  },
  {
   "cell_type": "markdown",
   "id": "083b7dcf",
   "metadata": {},
   "source": [
    "## Resultado"
   ]
  },
  {
   "cell_type": "code",
   "execution_count": 31,
   "id": "88f57aa8",
   "metadata": {},
   "outputs": [
    {
     "name": "stdout",
     "output_type": "stream",
     "text": [
      "0.8415\n",
      "0.8455\n"
     ]
    }
   ],
   "source": [
    "# 1551 + 132 predcciones correctas / 2000 datos del conjunto de testing\n",
    "print(f'{(1551+132)/2000}')\n",
    "print(f'{(cm[0][0]+cm[1][1])/len(X_test)}')"
   ]
  },
  {
   "cell_type": "markdown",
   "id": "f9511e8f",
   "metadata": {},
   "source": [
    "# Tenemos un 84% de precisión"
   ]
  },
  {
   "cell_type": "markdown",
   "id": "245c9671",
   "metadata": {},
   "source": [
    "### EL cliente con la siguiente información abandonará el banco? de acuerdo al modelo"
   ]
  },
  {
   "cell_type": "markdown",
   "id": "14fbdb68",
   "metadata": {},
   "source": [
    "Geografia: Francia\n",
    "\n",
    "Puntaje de crédito: 600\n",
    "\n",
    "Género masculino\n",
    "\n",
    "Edad: 40 años de edad\n",
    "\n",
    "Tenencia: 3 años.\n",
    "\n",
    "Saldo: $ 60000\n",
    "\n",
    "Número de productos: 2\n",
    "\n",
    "¿Este cliente tiene una tarjeta de crédito? Sí\n",
    "\n",
    "¿Es este cliente un miembro activo? Sí\n",
    "\n",
    "Salario estimado: $ 50000"
   ]
  },
  {
   "cell_type": "code",
   "execution_count": 32,
   "id": "c2edfba0",
   "metadata": {},
   "outputs": [
    {
     "data": {
      "text/plain": [
       "array([[-0.5698444 ,  1.74309049,  0.16958176, ...,  0.64259497,\n",
       "        -1.03227043,  1.10643166],\n",
       "       [ 1.75486502, -0.57369368, -2.30455945, ...,  0.64259497,\n",
       "         0.9687384 , -0.74866447],\n",
       "       [-0.5698444 , -0.57369368, -1.19119591, ...,  0.64259497,\n",
       "        -1.03227043,  1.48533467],\n",
       "       ...,\n",
       "       [-0.5698444 , -0.57369368,  0.9015152 , ...,  0.64259497,\n",
       "        -1.03227043,  1.41231994],\n",
       "       [-0.5698444 ,  1.74309049, -0.62420521, ...,  0.64259497,\n",
       "         0.9687384 ,  0.84432121],\n",
       "       [ 1.75486502, -0.57369368, -0.28401079, ...,  0.64259497,\n",
       "        -1.03227043,  0.32472465]])"
      ]
     },
     "execution_count": 32,
     "metadata": {},
     "output_type": "execute_result"
    }
   ],
   "source": [
    "X_train"
   ]
  },
  {
   "cell_type": "markdown",
   "id": "35b0ac42",
   "metadata": {},
   "source": [
    "creamos nuestra lista con los datos"
   ]
  },
  {
   "cell_type": "code",
   "execution_count": 33,
   "id": "d103e63d",
   "metadata": {},
   "outputs": [],
   "source": [
    "# como el pais es francia, 0,0 en primeras colimnas , suponemos es el segundo, suponemos que 0 es hombre\n",
    "#1.0 es hombre\n",
    "par_predecir = [[0.0,0.0,600,1.0,42,3,60000.00,2,1,1,50000]] "
   ]
  },
  {
   "cell_type": "code",
   "execution_count": 34,
   "id": "5ea6bc25",
   "metadata": {},
   "outputs": [],
   "source": [
    "par_predecir = np.array(par_predecir)"
   ]
  },
  {
   "cell_type": "code",
   "execution_count": 35,
   "id": "fdd99ba0",
   "metadata": {},
   "outputs": [],
   "source": [
    "par_predecir = sc_X.transform(par_predecir)"
   ]
  },
  {
   "cell_type": "code",
   "execution_count": 36,
   "id": "b22a7298",
   "metadata": {},
   "outputs": [
    {
     "data": {
      "text/plain": [
       "array([[-0.5698444 , -0.57369368, -0.52111599,  0.91601335,  0.30102557,\n",
       "        -0.68538967, -0.2569057 ,  0.8095029 ,  0.64259497,  0.9687384 ,\n",
       "        -0.87203322]])"
      ]
     },
     "execution_count": 36,
     "metadata": {},
     "output_type": "execute_result"
    }
   ],
   "source": [
    "par_predecir"
   ]
  },
  {
   "cell_type": "markdown",
   "id": "85568e70",
   "metadata": {},
   "source": [
    "### lo aplicamos en la red neuronal"
   ]
  },
  {
   "cell_type": "code",
   "execution_count": 37,
   "id": "bcac98f8",
   "metadata": {},
   "outputs": [],
   "source": [
    "mi_pred = classifier.predict(par_predecir)"
   ]
  },
  {
   "cell_type": "code",
   "execution_count": 38,
   "id": "804a3ece",
   "metadata": {},
   "outputs": [
    {
     "name": "stdout",
     "output_type": "stream",
     "text": [
      "[[0.10662767]]\n"
     ]
    }
   ],
   "source": [
    "print(mi_pred) "
   ]
  },
  {
   "cell_type": "markdown",
   "id": "669d2d06",
   "metadata": {},
   "source": [
    "# 9%<50%, por tanto no abandona el banco"
   ]
  },
  {
   "cell_type": "markdown",
   "id": "d86c17ab",
   "metadata": {},
   "source": [
    "## Parte 4.- Evaluar, mejorar y ajustar la RNA"
   ]
  },
  {
   "cell_type": "markdown",
   "id": "65d78790",
   "metadata": {},
   "source": [
    "### Evaluar la RNA"
   ]
  },
  {
   "cell_type": "code",
   "execution_count": 39,
   "id": "a0f4809c",
   "metadata": {},
   "outputs": [],
   "source": [
    "from keras.wrappers.scikit_learn import KerasClassifier # junta keras con scikit_learn para hacer validacion cruzada\n",
    "from sklearn.model_selection import cross_val_score"
   ]
  },
  {
   "cell_type": "code",
   "execution_count": 40,
   "id": "d9653386",
   "metadata": {},
   "outputs": [],
   "source": [
    "#COnstruye el clasificador de la RNA \n",
    "def build_classifier():\n",
    "    classifier = Sequential()\n",
    "    #OCULTAS\n",
    "    classifier.add(Dense(units=6,kernel_initializer='uniform',activation='relu',input_dim=11))\n",
    "    classifier.add(Dense(units=6,kernel_initializer='uniform',activation='relu'))\n",
    "    #Salidas\n",
    "    classifier.add(Dense(units=1,kernel_initializer='uniform',activation='sigmoid')) \n",
    "    classifier.compile(optimizer=\"adam\",loss=\"binary_crossentropy\",metrics=[\"accuracy\"])\n",
    "        #classifier.fit(X_train,Y_train,batch_size=10,epochs=100)\n",
    "    #devolvemos el clasificador ya fabricado\n",
    "    return classifier"
   ]
  },
  {
   "cell_type": "code",
   "execution_count": 41,
   "id": "cf686e29",
   "metadata": {},
   "outputs": [
    {
     "name": "stderr",
     "output_type": "stream",
     "text": [
      "<ipython-input-41-a914e4d4b8db>:4: DeprecationWarning: KerasClassifier is deprecated, use Sci-Keras (https://github.com/adriangb/scikeras) instead.\n",
      "  classifier = KerasClassifier( build_fn = build_classifier, batch_size=10,nb_epoch=100)\n"
     ]
    }
   ],
   "source": [
    "#ya para hacer la funcicón clasificadora con el testing y train en cada iter\n",
    "#mandamos la funcion como parametro\n",
    "#la red itera por bloque, train y test\n",
    "classifier = KerasClassifier( build_fn = build_classifier, batch_size=10,nb_epoch=100)\n",
    "#Vamos a tener varios scores\n",
    "#mandamos nuestro clasificador\n",
    "#RESERVAMOSLAPARTE DE TEST, pero ahora como de validacion, y el de trian como test y train que va ir iterando\n",
    "#10 validaciones cruzadas\n",
    "#Si tenemos varios procesadores, indicamos el numero de tareas de nuestro ordenador con n_jobs, -1 se usan todos\n",
    "#verbose muestra cosas, los estados intermedios\n",
    "accuracies = cross_val_score(estimator=classifier,X=X_train,y = Y_train,cv=10, n_jobs=-1)"
   ]
  },
  {
   "cell_type": "code",
   "execution_count": 42,
   "id": "935bde10",
   "metadata": {},
   "outputs": [
    {
     "data": {
      "text/plain": [
       "array([0.78625   , 0.79000002, 0.80000001, 0.78250003, 0.81625003,\n",
       "       0.81      , 0.78750002, 0.79374999, 0.79874998, 0.79500002])"
      ]
     },
     "execution_count": 42,
     "metadata": {},
     "output_type": "execute_result"
    }
   ],
   "source": [
    "#matriz de preciciones\n",
    "#Precision con poca varianza, pero no tan buen sesgo\n",
    "accuracies"
   ]
  },
  {
   "cell_type": "code",
   "execution_count": 43,
   "id": "e9883e93",
   "metadata": {},
   "outputs": [
    {
     "name": "stdout",
     "output_type": "stream",
     "text": [
      "0.7960000097751617\n",
      "0.010105690527913859\n"
     ]
    }
   ],
   "source": [
    "mean_acuracy = np.mean(accuracies)\n",
    "variance_acuracy = np.std(accuracies)\n",
    "print(mean_acuracy)#precisión\n",
    "print(variance_acuracy)#varianza. Estamos en el primer grafico, baja varianza, alto sesgo"
   ]
  },
  {
   "cell_type": "markdown",
   "id": "b11b3dda",
   "metadata": {},
   "source": [
    "### Mejorar la RNA"
   ]
  },
  {
   "cell_type": "markdown",
   "id": "c52d43ee",
   "metadata": {},
   "source": [
    "Regularización de dropout para evitar overfiting. Es decir, cuando el modelo sirve bien en el conjunto de entrenamiento\n",
    "pero mal en el de testing"
   ]
  },
  {
   "cell_type": "markdown",
   "id": "03ddc2c4",
   "metadata": {},
   "source": [
    "Esto suele ocurrir cuando hay una gran varianza en las diferentes iteraciones del k-fold, para el caso, la varianza no es grande, pero si fuera grande estamos sufriendo de overfiting. Pero lo haremos para saber como hacerlo en los casos"
   ]
  },
  {
   "cell_type": "markdown",
   "id": "7c6b735c",
   "metadata": {},
   "source": [
    "Esto surge porque aprendemos tanto del conjunto de entrenamiento, que no nos funciona en el conjunto de testing. Por lo que vamos a darle un enfoque diferente al aprendizaje"
   ]
  },
  {
   "cell_type": "code",
   "execution_count": 44,
   "id": "9358efbf",
   "metadata": {},
   "outputs": [],
   "source": [
    "#capa de olvido, se aplica despues de la capa que queremos que olvide, desactiva una neurona en cada iteracion\n",
    "from keras.layers import Dropout "
   ]
  },
  {
   "cell_type": "code",
   "execution_count": 45,
   "id": "ffdd6d21",
   "metadata": {},
   "outputs": [],
   "source": [
    "def build_classifier_2():\n",
    "    classifier = Sequential()\n",
    "    #OCULTAS\n",
    "    classifier.add(Dense(units=6,kernel_initializer='uniform',activation='relu',input_dim=11))\n",
    "    \n",
    "    #0.1 (10%) 1 neurona se desactiva, ir subiendo de 0.1 en 0.1, maximo 0.5, despues de la capas que queamos\n",
    "    classifier.add(Dropout(p=0.1))\n",
    "    \n",
    "    classifier.add(Dense(units=6,kernel_initializer='uniform',activation='relu'))\n",
    "    classifier.add(Dropout(p=0.1))\n",
    "    \n",
    "    #Salidas\n",
    "    classifier.add(Dense(units=1,kernel_initializer='uniform',activation='sigmoid')) \n",
    "    classifier.compile(optimizer=\"adam\",loss=\"binary_crossentropy\",metrics=[\"accuracy\"])\n",
    "        #classifier.fit(X_train,Y_train,batch_size=10,epochs=100)\n",
    "    #devolvemos el clasificador ya fabricado\n",
    "    return classifier"
   ]
  },
  {
   "cell_type": "markdown",
   "id": "a81d2f99",
   "metadata": {},
   "source": [
    "### Ajustra la RNA"
   ]
  },
  {
   "cell_type": "markdown",
   "id": "7d49ff24",
   "metadata": {},
   "source": [
    "Optimización de parametros, Hiper parametros, son los que son fijos en la fase de entrenamiento. \n",
    "Busqueda de cuadricula: Busca los parametros mejor optimizados"
   ]
  },
  {
   "cell_type": "code",
   "execution_count": 66,
   "id": "e9f54198",
   "metadata": {},
   "outputs": [],
   "source": [
    "from sklearn.model_selection import GridSearchCV #cross validation y gridsearch. Ajusta lo mejor posinle los parametros"
   ]
  },
  {
   "cell_type": "code",
   "execution_count": 84,
   "id": "f3f7c64b",
   "metadata": {},
   "outputs": [
    {
     "name": "stderr",
     "output_type": "stream",
     "text": [
      "<ipython-input-84-7082190e546f>:13: DeprecationWarning: KerasClassifier is deprecated, use Sci-Keras (https://github.com/adriangb/scikeras) instead.\n",
      "  classifier = KerasClassifier( build_fn = build_classifier_3)\n"
     ]
    }
   ],
   "source": [
    "def build_classifier_3(optimizer,units):\n",
    "    classifier = Sequential()\n",
    "    #OCULTAS\n",
    "    classifier.add(Dense(units=units,kernel_initializer='uniform',activation='relu',input_dim=11))\n",
    "    classifier.add(Dense(units=units,kernel_initializer='uniform',activation='relu'))\n",
    "    #Salidas\n",
    "    classifier.add(Dense(units=1,kernel_initializer='uniform',activation='sigmoid')) \n",
    "    classifier.compile(optimizer=optimizer,loss=\"binary_crossentropy\",metrics=[\"accuracy\"])\n",
    "        #classifier.fit(X_train,Y_train,batch_size=10,epochs=100)\n",
    "    #devolvemos el clasificador ya fabricado\n",
    "    return classifier\n",
    "#quitamos los epochs y batch_size\n",
    "classifier = KerasClassifier( build_fn = build_classifier_3)"
   ]
  },
  {
   "cell_type": "code",
   "execution_count": 86,
   "id": "2e8ab3b1",
   "metadata": {},
   "outputs": [],
   "source": [
    "#Pongamos todas las combinaciones que queramos. Cuidado por el peso de hacerlo\n",
    "#potencias de 2 es comun usarlo en batch, 25 no es\n",
    "parameters= {\n",
    "    'batch_size':[25,10],\n",
    "    'nb_epoch':[100,500],\n",
    "    'units':[6,3],\n",
    "    'optimizer':['adam','RMSprop'] #rmsprop usa gradiente\n",
    "}"
   ]
  },
  {
   "cell_type": "code",
   "execution_count": 87,
   "id": "feef8839",
   "metadata": {},
   "outputs": [],
   "source": [
    "#param_grid para obtener la mejor combinación\n",
    "grid_search = GridSearchCV(estimator=classifier,param_grid=parameters,scoring='accuracy', cv=10)"
   ]
  },
  {
   "cell_type": "code",
   "execution_count": 88,
   "id": "7efbb73e",
   "metadata": {},
   "outputs": [
    {
     "name": "stdout",
     "output_type": "stream",
     "text": [
      "288/288 [==============================] - 1s 1ms/step - loss: 0.5480 - accuracy: 0.7958\n",
      "288/288 [==============================] - 1s 1ms/step - loss: 0.5462 - accuracy: 0.7965\n",
      "288/288 [==============================] - 1s 1ms/step - loss: 0.6016 - accuracy: 0.7940\n",
      "288/288 [==============================] - 1s 1ms/step - loss: 0.5682 - accuracy: 0.7971\n",
      "288/288 [==============================] - 1s 1ms/step - loss: 0.5893 - accuracy: 0.7929\n",
      "288/288 [==============================] - 1s 878us/step - loss: 0.5473 - accuracy: 0.7943\n",
      "288/288 [==============================] - 1s 951us/step - loss: 0.6076 - accuracy: 0.7946\n",
      "288/288 [==============================] - 1s 871us/step - loss: 0.5840 - accuracy: 0.7936\n",
      "288/288 [==============================] - 1s 882us/step - loss: 0.5483 - accuracy: 0.7956\n",
      "288/288 [==============================] - 1s 885us/step - loss: 0.5556 - accuracy: 0.7957\n",
      "288/288 [==============================] - 1s 909us/step - loss: 0.5230 - accuracy: 0.7965\n",
      "288/288 [==============================] - 1s 958us/step - loss: 0.5216 - accuracy: 0.7962\n",
      "288/288 [==============================] - 1s 895us/step - loss: 0.5250 - accuracy: 0.7937\n",
      "288/288 [==============================] - 1s 895us/step - loss: 0.5214 - accuracy: 0.7969\n",
      "288/288 [==============================] - 1s 927us/step - loss: 0.5234 - accuracy: 0.7925\n",
      "288/288 [==============================] - 1s 909us/step - loss: 0.5202 - accuracy: 0.7940\n",
      "288/288 [==============================] - 1s 937us/step - loss: 0.5314 - accuracy: 0.7953\n",
      "288/288 [==============================] - 1s 878us/step - loss: 0.5220 - accuracy: 0.7951\n",
      "288/288 [==============================] - 1s 896us/step - loss: 0.5269 - accuracy: 0.7943\n",
      "288/288 [==============================] - 1s 983us/step - loss: 0.5189 - accuracy: 0.7958\n",
      "288/288 [==============================] - 1s 881us/step - loss: 0.5900 - accuracy: 0.7960\n",
      "288/288 [==============================] - 1s 951us/step - loss: 0.6035 - accuracy: 0.7954\n",
      "288/288 [==============================] - 1s 1ms/step - loss: 0.5843 - accuracy: 0.7937\n",
      "288/288 [==============================] - 1s 937us/step - loss: 0.5693 - accuracy: 0.7965\n",
      "288/288 [==============================] - 1s 944us/step - loss: 0.5865 - accuracy: 0.7932\n",
      "288/288 [==============================] - 1s 902us/step - loss: 0.5798 - accuracy: 0.7931\n",
      "288/288 [==============================] - 1s 888us/step - loss: 0.6043 - accuracy: 0.7946\n",
      "288/288 [==============================] - 1s 871us/step - loss: 0.5711 - accuracy: 0.7957\n",
      "288/288 [==============================] - 1s 1ms/step - loss: 0.5915 - accuracy: 0.7932\n",
      "288/288 [==============================] - 1s 972us/step - loss: 0.5788 - accuracy: 0.7957\n",
      "288/288 [==============================] - 1s 948us/step - loss: 0.5279 - accuracy: 0.7950\n",
      "288/288 [==============================] - 1s 951us/step - loss: 0.5636 - accuracy: 0.7940\n",
      "288/288 [==============================] - 1s 906us/step - loss: 0.5433 - accuracy: 0.7935\n",
      "288/288 [==============================] - 1s 909us/step - loss: 0.5593 - accuracy: 0.7951\n",
      "288/288 [==============================] - 1s 930us/step - loss: 0.5494 - accuracy: 0.7915\n",
      "288/288 [==============================] - 1s 989us/step - loss: 0.5231 - accuracy: 0.7926\n",
      "288/288 [==============================] - 1s 909us/step - loss: 0.5306 - accuracy: 0.7961\n",
      "288/288 [==============================] - 1s 909us/step - loss: 0.5208 - accuracy: 0.7962\n",
      "288/288 [==============================] - 1s 979us/step - loss: 0.5518 - accuracy: 0.7947\n",
      "288/288 [==============================] - 1s 920us/step - loss: 0.5483 - accuracy: 0.7940\n",
      "288/288 [==============================] - 1s 948us/step - loss: 0.5504 - accuracy: 0.7969\n",
      "288/288 [==============================] - 1s 969us/step - loss: 0.6071 - accuracy: 0.7949\n",
      "288/288 [==============================] - 1s 930us/step - loss: 0.5596 - accuracy: 0.7946\n",
      "288/288 [==============================] - 1s 899us/step - loss: 0.5525 - accuracy: 0.7964\n",
      "288/288 [==============================] - 1s 913us/step - loss: 0.5587 - accuracy: 0.7917\n",
      "288/288 [==============================] - 1s 923us/step - loss: 0.5574 - accuracy: 0.7937\n",
      "288/288 [==============================] - 1s 916us/step - loss: 0.5679 - accuracy: 0.7961\n",
      "288/288 [==============================] - 1s 892us/step - loss: 0.5685 - accuracy: 0.7961\n",
      "288/288 [==============================] - 1s 955us/step - loss: 0.5477 - accuracy: 0.7956\n",
      "288/288 [==============================] - 1s 986us/step - loss: 0.5666 - accuracy: 0.7939\n",
      "288/288 [==============================] - 1s 913us/step - loss: 0.5202 - accuracy: 0.7964\n",
      "288/288 [==============================] - 1s 902us/step - loss: 0.5310 - accuracy: 0.7947\n",
      "288/288 [==============================] - 1s 930us/step - loss: 0.5341 - accuracy: 0.7933\n",
      "288/288 [==============================] - 1s 941us/step - loss: 0.5189 - accuracy: 0.7968\n",
      "288/288 [==============================] - 1s 1ms/step - loss: 0.5146 - accuracy: 0.7937\n",
      "288/288 [==============================] - 1s 972us/step - loss: 0.5231 - accuracy: 0.7942\n",
      "288/288 [==============================] - 1s 1ms/step - loss: 0.5195 - accuracy: 0.7968\n",
      "288/288 [==============================] - 1s 983us/step - loss: 0.5179 - accuracy: 0.7950\n",
      "288/288 [==============================] - 1s 909us/step - loss: 0.5263 - accuracy: 0.7949\n",
      "288/288 [==============================] - 1s 1ms/step - loss: 0.5310 - accuracy: 0.7951\n",
      "288/288 [==============================] - 1s 882us/step - loss: 0.5724 - accuracy: 0.7968\n",
      "288/288 [==============================] - 1s 916us/step - loss: 0.5862 - accuracy: 0.7951\n",
      "288/288 [==============================] - 1s 909us/step - loss: 0.5566 - accuracy: 0.7956\n",
      "288/288 [==============================] - 1s 941us/step - loss: 0.6266 - accuracy: 0.7958\n",
      "288/288 [==============================] - 1s 909us/step - loss: 0.5905 - accuracy: 0.7935\n",
      "288/288 [==============================] - 1s 993us/step - loss: 0.5828 - accuracy: 0.7933\n",
      "288/288 [==============================] - 1s 951us/step - loss: 0.6063 - accuracy: 0.7944\n",
      "288/288 [==============================] - 1s 892us/step - loss: 0.6186 - accuracy: 0.7962\n",
      "288/288 [==============================] - 1s 899us/step - loss: 0.5717 - accuracy: 0.7950\n",
      "288/288 [==============================] - 1s 868us/step - loss: 0.5710 - accuracy: 0.7949\n",
      "288/288 [==============================] - 1s 1ms/step - loss: 0.5352 - accuracy: 0.7964\n",
      "288/288 [==============================] - 1s 902us/step - loss: 0.5320 - accuracy: 0.7958\n",
      "288/288 [==============================] - 1s 979us/step - loss: 0.5291 - accuracy: 0.7947\n",
      "288/288 [==============================] - 1s 1ms/step - loss: 0.5190 - accuracy: 0.7976\n",
      "288/288 [==============================] - 1s 1000us/step - loss: 0.5401 - accuracy: 0.7928\n",
      "288/288 [==============================] - 1s 906us/step - loss: 0.5518 - accuracy: 0.7929\n",
      "288/288 [==============================] - 1s 1ms/step - loss: 0.5319 - accuracy: 0.7954\n",
      "288/288 [==============================] - 1s 951us/step - loss: 0.5256 - accuracy: 0.7962\n",
      "288/288 [==============================] - 1s 972us/step - loss: 0.5220 - accuracy: 0.7950\n",
      "288/288 [==============================] - 1s 909us/step - loss: 0.5287 - accuracy: 0.7958\n",
      "720/720 [==============================] - 1s 908us/step - loss: 0.4860 - accuracy: 0.7961\n",
      "720/720 [==============================] - 1s 898us/step - loss: 0.5006 - accuracy: 0.7967\n",
      "720/720 [==============================] - 1s 879us/step - loss: 0.4890 - accuracy: 0.7951\n",
      "720/720 [==============================] - 1s 1ms/step - loss: 0.4903 - accuracy: 0.7974\n",
      "720/720 [==============================] - 1s 999us/step - loss: 0.5072 - accuracy: 0.7936\n",
      "720/720 [==============================] - 1s 967us/step - loss: 0.4921 - accuracy: 0.7943\n",
      "720/720 [==============================] - 1s 968us/step - loss: 0.4884 - accuracy: 0.7969\n",
      "720/720 [==============================] - 1s 915us/step - loss: 0.4881 - accuracy: 0.7962\n",
      "720/720 [==============================] - 1s 968us/step - loss: 0.5667 - accuracy: 0.7969\n",
      "720/720 [==============================] - 1s 905us/step - loss: 0.4933 - accuracy: 0.7958\n"
     ]
    },
    {
     "name": "stdout",
     "output_type": "stream",
     "text": [
      "720/720 [==============================] - 1s 955us/step - loss: 0.4714 - accuracy: 0.7972\n",
      "720/720 [==============================] - 1s 929us/step - loss: 0.4713 - accuracy: 0.7967\n",
      "720/720 [==============================] - 1s 900us/step - loss: 0.4767 - accuracy: 0.7946\n",
      "720/720 [==============================] - 1s 904us/step - loss: 0.4709 - accuracy: 0.7971\n",
      "720/720 [==============================] - 1s 904us/step - loss: 0.4796 - accuracy: 0.7937\n",
      "720/720 [==============================] - 1s 904us/step - loss: 0.4771 - accuracy: 0.7940\n",
      "720/720 [==============================] - 1s 1ms/step - loss: 0.4704 - accuracy: 0.7968\n",
      "720/720 [==============================] - 1s 974us/step - loss: 0.4639 - accuracy: 0.8079\n",
      "720/720 [==============================] - 1s 917us/step - loss: 0.4811 - accuracy: 0.7946\n",
      "720/720 [==============================] - 1s 944us/step - loss: 0.4700 - accuracy: 0.7961\n",
      "720/720 [==============================] - 1s 907us/step - loss: 0.5091 - accuracy: 0.7964\n",
      "720/720 [==============================] - 1s 926us/step - loss: 0.5034 - accuracy: 0.7964\n",
      "720/720 [==============================] - 1s 936us/step - loss: 0.5248 - accuracy: 0.7944\n",
      "720/720 [==============================] - 1s 947us/step - loss: 0.5307 - accuracy: 0.7968\n",
      "720/720 [==============================] - 1s 917us/step - loss: 0.5033 - accuracy: 0.7937\n",
      "720/720 [==============================] - 1s 944us/step - loss: 0.4986 - accuracy: 0.7944\n",
      "720/720 [==============================] - 1s 929us/step - loss: 0.5074 - accuracy: 0.7965\n",
      "720/720 [==============================] - 1s 900us/step - loss: 0.5064 - accuracy: 0.7956\n",
      "720/720 [==============================] - 1s 957us/step - loss: 0.4918 - accuracy: 0.7957\n",
      "720/720 [==============================] - 1s 918us/step - loss: 0.5098 - accuracy: 0.7953\n",
      "720/720 [==============================] - 1s 939us/step - loss: 0.4837 - accuracy: 0.7964\n",
      "720/720 [==============================] - 1s 921us/step - loss: 0.4795 - accuracy: 0.7958\n",
      "720/720 [==============================] - 1s 912us/step - loss: 0.4763 - accuracy: 0.7951\n",
      "720/720 [==============================] - 1s 862us/step - loss: 0.4765 - accuracy: 0.7975\n",
      "720/720 [==============================] - 2s 904us/step - loss: 0.4842 - accuracy: 0.7935\n",
      "720/720 [==============================] - 1s 868us/step - loss: 0.4792 - accuracy: 0.7943\n",
      "720/720 [==============================] - 1s 862us/step - loss: 0.4750 - accuracy: 0.7969\n",
      "720/720 [==============================] - 1s 905us/step - loss: 0.4789 - accuracy: 0.7957\n",
      "720/720 [==============================] - 1s 930us/step - loss: 0.4770 - accuracy: 0.7947\n",
      "720/720 [==============================] - 1s 944us/step - loss: 0.4812 - accuracy: 0.7956\n",
      "720/720 [==============================] - 1s 989us/step - loss: 0.4905 - accuracy: 0.7964\n",
      "720/720 [==============================] - 1s 904us/step - loss: 0.4951 - accuracy: 0.7961\n",
      "720/720 [==============================] - 1s 967us/step - loss: 0.4914 - accuracy: 0.7956\n",
      "720/720 [==============================] - 1s 940us/step - loss: 0.4935 - accuracy: 0.7976\n",
      "720/720 [==============================] - 1s 951us/step - loss: 0.5008 - accuracy: 0.7926\n",
      "720/720 [==============================] - 1s 880us/step - loss: 0.4891 - accuracy: 0.7939\n",
      "720/720 [==============================] - 1s 873us/step - loss: 0.5070 - accuracy: 0.7971\n",
      "720/720 [==============================] - 1s 905us/step - loss: 0.4918 - accuracy: 0.7962\n",
      "720/720 [==============================] - 1s 873us/step - loss: 0.4896 - accuracy: 0.7951\n",
      "720/720 [==============================] - 1s 883us/step - loss: 0.5048 - accuracy: 0.7953\n",
      "720/720 [==============================] - 1s 912us/step - loss: 0.4827 - accuracy: 0.8018\n",
      "720/720 [==============================] - 1s 924us/step - loss: 0.4744 - accuracy: 0.7964\n",
      "720/720 [==============================] - 1s 907us/step - loss: 0.4686 - accuracy: 0.7983\n",
      "720/720 [==============================] - 1s 897us/step - loss: 0.4767 - accuracy: 0.7968\n",
      "720/720 [==============================] - 1s 922us/step - loss: 0.4763 - accuracy: 0.7935\n",
      "720/720 [==============================] - 1s 961us/step - loss: 0.4736 - accuracy: 0.7944\n",
      "720/720 [==============================] - 1s 933us/step - loss: 0.4719 - accuracy: 0.7969\n",
      "720/720 [==============================] - 1s 908us/step - loss: 0.4780 - accuracy: 0.7956\n",
      "720/720 [==============================] - 1s 886us/step - loss: 0.4793 - accuracy: 0.7944\n",
      "720/720 [==============================] - 1s 864us/step - loss: 0.4750 - accuracy: 0.8008\n",
      "720/720 [==============================] - 1s 1ms/step - loss: 0.4902 - accuracy: 0.7971\n",
      "720/720 [==============================] - 1s 967us/step - loss: 0.5115 - accuracy: 0.7956\n",
      "720/720 [==============================] - 1s 942us/step - loss: 0.5081 - accuracy: 0.7953\n",
      "720/720 [==============================] - 1s 911us/step - loss: 0.5033 - accuracy: 0.7975\n",
      "720/720 [==============================] - 1s 967us/step - loss: 0.5346 - accuracy: 0.7932\n",
      "720/720 [==============================] - 1s 897us/step - loss: 0.5139 - accuracy: 0.7937\n",
      "720/720 [==============================] - 1s 893us/step - loss: 0.5001 - accuracy: 0.7968\n",
      "720/720 [==============================] - 1s 967us/step - loss: 0.5304 - accuracy: 0.7960\n",
      "720/720 [==============================] - 1s 974us/step - loss: 0.4986 - accuracy: 0.7956\n",
      "720/720 [==============================] - 1s 910us/step - loss: 0.5090 - accuracy: 0.7956\n",
      "720/720 [==============================] - 1s 886us/step - loss: 0.4734 - accuracy: 0.7971\n",
      "720/720 [==============================] - 1s 890us/step - loss: 0.4794 - accuracy: 0.7964\n",
      "720/720 [==============================] - 1s 894us/step - loss: 0.4832 - accuracy: 0.7951\n",
      "720/720 [==============================] - 1s 905us/step - loss: 0.4778 - accuracy: 0.7969\n",
      "720/720 [==============================] - 1s 951us/step - loss: 0.4834 - accuracy: 0.7926\n",
      "720/720 [==============================] - 1s 922us/step - loss: 0.4850 - accuracy: 0.7937\n",
      "720/720 [==============================] - 1s 918us/step - loss: 0.4850 - accuracy: 0.7967\n",
      "720/720 [==============================] - 1s 937us/step - loss: 0.4791 - accuracy: 0.7956\n",
      "720/720 [==============================] - 1s 940us/step - loss: 0.4767 - accuracy: 0.7958\n",
      "720/720 [==============================] - 1s 933us/step - loss: 0.4903 - accuracy: 0.7953\n",
      "800/800 [==============================] - 1s 937us/step - loss: 0.4735 - accuracy: 0.7970\n"
     ]
    }
   ],
   "source": [
    "grid_search = grid_search.fit(X_train, Y_train)\n",
    "best_parameters = grid_search.best_params_\n",
    "best_accuracy = grid_search.best_score_"
   ]
  },
  {
   "cell_type": "code",
   "execution_count": 90,
   "id": "2ff3b4e4",
   "metadata": {},
   "outputs": [
    {
     "name": "stdout",
     "output_type": "stream",
     "text": [
      "0.80325\n",
      "{'batch_size': 10, 'nb_epoch': 500, 'optimizer': 'adam', 'units': 12}\n"
     ]
    }
   ],
   "source": [
    "print(best_accuracy)\n",
    "print(best_parameters)"
   ]
  },
  {
   "cell_type": "markdown",
   "id": "30c1704d",
   "metadata": {},
   "source": [
    "### AHORA TENEMOS UNA PLANTILLA DE RED NEURONAL ARTIFICIAL"
   ]
  },
  {
   "cell_type": "code",
   "execution_count": 83,
   "id": "d83b6667",
   "metadata": {},
   "outputs": [
    {
     "data": {
      "text/plain": [
       "(8000, 11)"
      ]
     },
     "execution_count": 83,
     "metadata": {},
     "output_type": "execute_result"
    }
   ],
   "source": []
  },
  {
   "cell_type": "code",
   "execution_count": null,
   "id": "8ca41bbc",
   "metadata": {},
   "outputs": [],
   "source": []
  }
 ],
 "metadata": {
  "kernelspec": {
   "display_name": "Python 3",
   "language": "python",
   "name": "python3"
  },
  "language_info": {
   "codemirror_mode": {
    "name": "ipython",
    "version": 3
   },
   "file_extension": ".py",
   "mimetype": "text/x-python",
   "name": "python",
   "nbconvert_exporter": "python",
   "pygments_lexer": "ipython3",
   "version": "3.8.8"
  }
 },
 "nbformat": 4,
 "nbformat_minor": 5
}
