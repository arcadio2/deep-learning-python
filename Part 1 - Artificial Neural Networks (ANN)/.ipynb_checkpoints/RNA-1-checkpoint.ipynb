{
 "cells": [
  {
   "cell_type": "markdown",
   "id": "b024b662",
   "metadata": {},
   "source": [
    "# Problema de bancos, clasificación"
   ]
  },
  {
   "cell_type": "markdown",
   "id": "7c08c30e",
   "metadata": {},
   "source": [
    "## Parte 1: Pre-procesado de datos"
   ]
  },
  {
   "cell_type": "code",
   "execution_count": 1,
   "id": "d6dd394d",
   "metadata": {},
   "outputs": [],
   "source": [
    "import numpy as np\n",
    "import pandas as pd\n",
    "import matplotlib.pyplot as plt"
   ]
  },
  {
   "cell_type": "code",
   "execution_count": 2,
   "id": "a3fe8150",
   "metadata": {},
   "outputs": [],
   "source": [
    "%config IPCompleter.greedy = True"
   ]
  },
  {
   "cell_type": "code",
   "execution_count": 3,
   "id": "6efc7cbe",
   "metadata": {},
   "outputs": [],
   "source": [
    "dataset = pd.read_csv(\"Churn_Modelling.csv\")"
   ]
  },
  {
   "cell_type": "code",
   "execution_count": 4,
   "id": "1de4d08d",
   "metadata": {},
   "outputs": [
    {
     "data": {
      "text/html": [
       "<div>\n",
       "<style scoped>\n",
       "    .dataframe tbody tr th:only-of-type {\n",
       "        vertical-align: middle;\n",
       "    }\n",
       "\n",
       "    .dataframe tbody tr th {\n",
       "        vertical-align: top;\n",
       "    }\n",
       "\n",
       "    .dataframe thead th {\n",
       "        text-align: right;\n",
       "    }\n",
       "</style>\n",
       "<table border=\"1\" class=\"dataframe\">\n",
       "  <thead>\n",
       "    <tr style=\"text-align: right;\">\n",
       "      <th></th>\n",
       "      <th>RowNumber</th>\n",
       "      <th>CustomerId</th>\n",
       "      <th>Surname</th>\n",
       "      <th>CreditScore</th>\n",
       "      <th>Geography</th>\n",
       "      <th>Gender</th>\n",
       "      <th>Age</th>\n",
       "      <th>Tenure</th>\n",
       "      <th>Balance</th>\n",
       "      <th>NumOfProducts</th>\n",
       "      <th>HasCrCard</th>\n",
       "      <th>IsActiveMember</th>\n",
       "      <th>EstimatedSalary</th>\n",
       "      <th>Exited</th>\n",
       "    </tr>\n",
       "  </thead>\n",
       "  <tbody>\n",
       "    <tr>\n",
       "      <th>0</th>\n",
       "      <td>1</td>\n",
       "      <td>15634602</td>\n",
       "      <td>Hargrave</td>\n",
       "      <td>619</td>\n",
       "      <td>France</td>\n",
       "      <td>Female</td>\n",
       "      <td>42</td>\n",
       "      <td>2</td>\n",
       "      <td>0.00</td>\n",
       "      <td>1</td>\n",
       "      <td>1</td>\n",
       "      <td>1</td>\n",
       "      <td>101348.88</td>\n",
       "      <td>1</td>\n",
       "    </tr>\n",
       "    <tr>\n",
       "      <th>1</th>\n",
       "      <td>2</td>\n",
       "      <td>15647311</td>\n",
       "      <td>Hill</td>\n",
       "      <td>608</td>\n",
       "      <td>Spain</td>\n",
       "      <td>Female</td>\n",
       "      <td>41</td>\n",
       "      <td>1</td>\n",
       "      <td>83807.86</td>\n",
       "      <td>1</td>\n",
       "      <td>0</td>\n",
       "      <td>1</td>\n",
       "      <td>112542.58</td>\n",
       "      <td>0</td>\n",
       "    </tr>\n",
       "    <tr>\n",
       "      <th>2</th>\n",
       "      <td>3</td>\n",
       "      <td>15619304</td>\n",
       "      <td>Onio</td>\n",
       "      <td>502</td>\n",
       "      <td>France</td>\n",
       "      <td>Female</td>\n",
       "      <td>42</td>\n",
       "      <td>8</td>\n",
       "      <td>159660.80</td>\n",
       "      <td>3</td>\n",
       "      <td>1</td>\n",
       "      <td>0</td>\n",
       "      <td>113931.57</td>\n",
       "      <td>1</td>\n",
       "    </tr>\n",
       "    <tr>\n",
       "      <th>3</th>\n",
       "      <td>4</td>\n",
       "      <td>15701354</td>\n",
       "      <td>Boni</td>\n",
       "      <td>699</td>\n",
       "      <td>France</td>\n",
       "      <td>Female</td>\n",
       "      <td>39</td>\n",
       "      <td>1</td>\n",
       "      <td>0.00</td>\n",
       "      <td>2</td>\n",
       "      <td>0</td>\n",
       "      <td>0</td>\n",
       "      <td>93826.63</td>\n",
       "      <td>0</td>\n",
       "    </tr>\n",
       "    <tr>\n",
       "      <th>4</th>\n",
       "      <td>5</td>\n",
       "      <td>15737888</td>\n",
       "      <td>Mitchell</td>\n",
       "      <td>850</td>\n",
       "      <td>Spain</td>\n",
       "      <td>Female</td>\n",
       "      <td>43</td>\n",
       "      <td>2</td>\n",
       "      <td>125510.82</td>\n",
       "      <td>1</td>\n",
       "      <td>1</td>\n",
       "      <td>1</td>\n",
       "      <td>79084.10</td>\n",
       "      <td>0</td>\n",
       "    </tr>\n",
       "    <tr>\n",
       "      <th>5</th>\n",
       "      <td>6</td>\n",
       "      <td>15574012</td>\n",
       "      <td>Chu</td>\n",
       "      <td>645</td>\n",
       "      <td>Spain</td>\n",
       "      <td>Male</td>\n",
       "      <td>44</td>\n",
       "      <td>8</td>\n",
       "      <td>113755.78</td>\n",
       "      <td>2</td>\n",
       "      <td>1</td>\n",
       "      <td>0</td>\n",
       "      <td>149756.71</td>\n",
       "      <td>1</td>\n",
       "    </tr>\n",
       "  </tbody>\n",
       "</table>\n",
       "</div>"
      ],
      "text/plain": [
       "   RowNumber  CustomerId   Surname  CreditScore Geography  Gender  Age  \\\n",
       "0          1    15634602  Hargrave          619    France  Female   42   \n",
       "1          2    15647311      Hill          608     Spain  Female   41   \n",
       "2          3    15619304      Onio          502    France  Female   42   \n",
       "3          4    15701354      Boni          699    France  Female   39   \n",
       "4          5    15737888  Mitchell          850     Spain  Female   43   \n",
       "5          6    15574012       Chu          645     Spain    Male   44   \n",
       "\n",
       "   Tenure    Balance  NumOfProducts  HasCrCard  IsActiveMember  \\\n",
       "0       2       0.00              1          1               1   \n",
       "1       1   83807.86              1          0               1   \n",
       "2       8  159660.80              3          1               0   \n",
       "3       1       0.00              2          0               0   \n",
       "4       2  125510.82              1          1               1   \n",
       "5       8  113755.78              2          1               0   \n",
       "\n",
       "   EstimatedSalary  Exited  \n",
       "0        101348.88       1  \n",
       "1        112542.58       0  \n",
       "2        113931.57       1  \n",
       "3         93826.63       0  \n",
       "4         79084.10       0  \n",
       "5        149756.71       1  "
      ]
     },
     "execution_count": 4,
     "metadata": {},
     "output_type": "execute_result"
    }
   ],
   "source": [
    "dataset.head(6)"
   ]
  },
  {
   "cell_type": "code",
   "execution_count": 5,
   "id": "c511ddbd",
   "metadata": {},
   "outputs": [],
   "source": [
    "#X = dataset.iloc[:,[3,4,5,6,7,..,13]] #dependientes desde creditScore de la 3 a la 12\n",
    "            #filas, columnas\n",
    "X = dataset.iloc[:, 3:13 ].values  # values convierte a array\n",
    "Y = dataset[\"Exited\"]"
   ]
  },
  {
   "cell_type": "markdown",
   "id": "71d95818",
   "metadata": {},
   "source": [
    "#### Datos categoricos"
   ]
  },
  {
   "cell_type": "code",
   "execution_count": 6,
   "id": "60428623",
   "metadata": {},
   "outputs": [],
   "source": [
    "from sklearn.preprocessing import LabelEncoder, OneHotEncoder\n",
    "from sklearn.compose import ColumnTransformer"
   ]
  },
  {
   "cell_type": "code",
   "execution_count": 7,
   "id": "b09b8f04",
   "metadata": {},
   "outputs": [],
   "source": [
    "label_encoder_X_1 = LabelEncoder()  # es nuestra funcion transoformara la columna numero 1 a dummies\n",
    "X[:,1] = label_encoder_X_1.fit_transform(X[:,1]) \n",
    "label_encoder_X_2 = LabelEncoder() \n",
    "X[:,2] = label_encoder_X_1.fit_transform(X[:,2]) #genero\n",
    "#colocamos una columna para cada dummie, OneHotEncoder se encarga de eso"
   ]
  },
  {
   "cell_type": "code",
   "execution_count": 8,
   "id": "f8ee2f06",
   "metadata": {},
   "outputs": [],
   "source": [
    "# transoforma a 0 o 1 categorias, 0 o 1 si pertenece a tal pais por ejemplo\n",
    "transformer = ColumnTransformer(\n",
    "    transformers=[\n",
    "        (\"Churn_Modelling\",        # Un nombre de la transformación\n",
    "         OneHotEncoder(categories='auto'), # La clase a la que transformar\n",
    "         [1]            # Las columnas a transformar.\n",
    "         )\n",
    "    ], remainder='passthrough'\n",
    ")\n",
    "X = transformer.fit_transform(X)\n",
    "X = X[:, 1:] # todas las filas, todas las columnas, pero se debe prescindir de una de las 3, prescindimos de Francia"
   ]
  },
  {
   "cell_type": "code",
   "execution_count": 9,
   "id": "41cf8fe8",
   "metadata": {},
   "outputs": [
    {
     "name": "stdout",
     "output_type": "stream",
     "text": [
      "[0.0 0.0 822 1 50 7 0.0 2 1 1 10062.8]\n"
     ]
    },
    {
     "data": {
      "text/plain": [
       "(10000, 11)"
      ]
     },
     "execution_count": 9,
     "metadata": {},
     "output_type": "execute_result"
    }
   ],
   "source": [
    "# transoforma a 0 o 1 categorias, 0 o 1 si pertenece a tal pais por ejemplo\n",
    "#oneHotEncoder = OneHotEncoder(categories=[1] )  #categoria 1\n",
    "#X = oneHotEncoder.fit_transform(X).toArray()\n",
    "print(X[6]) # las primeras 3 columnas son si pertenecen a algun pais, es 1 o 0. SI es 0 en españa o en el otro, es frances \n",
    "X.shape"
   ]
  },
  {
   "cell_type": "markdown",
   "id": "f00090ab",
   "metadata": {},
   "source": [
    "Conjunto de testing y conjunto de entrenamiento"
   ]
  },
  {
   "cell_type": "code",
   "execution_count": 10,
   "id": "eae57bbd",
   "metadata": {},
   "outputs": [],
   "source": [
    "from sklearn.model_selection import train_test_split"
   ]
  },
  {
   "cell_type": "code",
   "execution_count": 11,
   "id": "ab2666ee",
   "metadata": {},
   "outputs": [],
   "source": [
    "X_train,X_test,Y_train,Y_test = train_test_split(X,Y,test_size=0.2,random_state=0) #20% de test"
   ]
  },
  {
   "cell_type": "code",
   "execution_count": 12,
   "id": "094cec12",
   "metadata": {},
   "outputs": [
    {
     "name": "stdout",
     "output_type": "stream",
     "text": [
      "[[0.0 1.0 667 ... 1 0 163830.64]\n",
      " [1.0 0.0 427 ... 1 1 57098.0]\n",
      " [0.0 0.0 535 ... 1 0 185630.76]\n",
      " ...\n",
      " [0.0 0.0 738 ... 1 0 181429.87]\n",
      " [0.0 1.0 590 ... 1 1 148750.16]\n",
      " [1.0 0.0 623 ... 1 0 118855.26]]\n",
      "_____________________________________\n",
      "[[1.0 0.0 597 ... 1 1 192852.67]\n",
      " [0.0 0.0 523 ... 1 0 128702.1]\n",
      " [0.0 1.0 706 ... 1 1 75732.25]\n",
      " ...\n",
      " [0.0 1.0 578 ... 1 0 141533.19]\n",
      " [1.0 0.0 650 ... 1 1 11276.48]\n",
      " [1.0 0.0 573 ... 1 0 192950.6]]\n"
     ]
    }
   ],
   "source": [
    "print(X_train)\n",
    "print(\"_____________________________________\")\n",
    "print(X_test)"
   ]
  },
  {
   "cell_type": "markdown",
   "id": "8e41c20c",
   "metadata": {},
   "source": [
    "### Hacemos que ninguna variable domine sobre el resto, escalado de variables a x_test y x_train"
   ]
  },
  {
   "cell_type": "code",
   "execution_count": 13,
   "id": "d5f08311",
   "metadata": {},
   "outputs": [],
   "source": [
    "from sklearn.preprocessing import StandardScaler"
   ]
  },
  {
   "cell_type": "code",
   "execution_count": 14,
   "id": "a7e24f1d",
   "metadata": {},
   "outputs": [],
   "source": [
    "sc_X = StandardScaler() # para las x\n",
    "X_train = sc_X.fit_transform(X_train) # ya están estaraziadas en entrenamiento. Aplica un cambio de escala\n",
    "X_test = sc_X.transform(X_test) #la linea anterior se aplica al conjunto de test, por eso solo el transform"
   ]
  },
  {
   "cell_type": "code",
   "execution_count": 15,
   "id": "bb145af0",
   "metadata": {},
   "outputs": [
    {
     "name": "stdout",
     "output_type": "stream",
     "text": [
      "[[-0.5698444   1.74309049  0.16958176 ...  0.64259497 -1.03227043\n",
      "   1.10643166]\n",
      " [ 1.75486502 -0.57369368 -2.30455945 ...  0.64259497  0.9687384\n",
      "  -0.74866447]\n",
      " [-0.5698444  -0.57369368 -1.19119591 ...  0.64259497 -1.03227043\n",
      "   1.48533467]\n",
      " ...\n",
      " [-0.5698444  -0.57369368  0.9015152  ...  0.64259497 -1.03227043\n",
      "   1.41231994]\n",
      " [-0.5698444   1.74309049 -0.62420521 ...  0.64259497  0.9687384\n",
      "   0.84432121]\n",
      " [ 1.75486502 -0.57369368 -0.28401079 ...  0.64259497 -1.03227043\n",
      "   0.32472465]]\n",
      "_____________________________________\n",
      "[[ 1.75486502 -0.57369368 -0.55204276 ...  0.64259497  0.9687384\n",
      "   1.61085707]\n",
      " [-0.5698444  -0.57369368 -1.31490297 ...  0.64259497 -1.03227043\n",
      "   0.49587037]\n",
      " [-0.5698444   1.74309049  0.57162971 ...  0.64259497  0.9687384\n",
      "  -0.42478674]\n",
      " ...\n",
      " [-0.5698444   1.74309049 -0.74791227 ...  0.64259497 -1.03227043\n",
      "   0.71888467]\n",
      " [ 1.75486502 -0.57369368 -0.00566991 ...  0.64259497  0.9687384\n",
      "  -1.54507805]\n",
      " [ 1.75486502 -0.57369368 -0.79945688 ...  0.64259497 -1.03227043\n",
      "   1.61255917]]\n"
     ]
    }
   ],
   "source": [
    "print(X_train)\n",
    "print(\"_____________________________________\")\n",
    "print(X_test)"
   ]
  },
  {
   "cell_type": "markdown",
   "id": "267a5907",
   "metadata": {},
   "source": [
    "## Parte 2.- Construcción de la red neuronal"
   ]
  },
  {
   "cell_type": "code",
   "execution_count": 16,
   "id": "ce285339",
   "metadata": {},
   "outputs": [],
   "source": [
    "import keras\n",
    "from keras.models import Sequential #inicialia los paramtros de la red\n",
    "from keras.layers import Dense #crea las capas de la red,e inicializa los pesos cercanos a 0"
   ]
  },
  {
   "cell_type": "markdown",
   "id": "7b946cb1",
   "metadata": {},
   "source": [
    "### Inicializar la red neuronal"
   ]
  },
  {
   "cell_type": "code",
   "execution_count": 17,
   "id": "948b7c4b",
   "metadata": {},
   "outputs": [],
   "source": [
    "#La red neuronal va a clasificar\n",
    "classifier = Sequential()"
   ]
  },
  {
   "cell_type": "markdown",
   "id": "39816b42",
   "metadata": {},
   "source": [
    "### Añadir las capas de entrada y la primer capa oculta de la red neuronal"
   ]
  },
  {
   "cell_type": "code",
   "execution_count": 18,
   "id": "304130c9",
   "metadata": {},
   "outputs": [],
   "source": [
    "#se especifica la capa. La capa de salida (parametro de salida), la media entre las entradas y la salida, en el caso es 6\n",
    "#kernel_initializer establece con que distribución se inicialian los pesos\n",
    "#activation, que funcion de activation se hace en la capa oculta, relu es reactificador lineal max(0,x)\n",
    "#input_dim la dimension de entrada\n",
    "classifier.add(Dense(units=6,kernel_initializer='uniform',activation='relu',input_dim=11))"
   ]
  },
  {
   "cell_type": "code",
   "execution_count": 19,
   "id": "4437fab1",
   "metadata": {},
   "outputs": [],
   "source": [
    "#La red ya sabe que viene de un espacio dimensional de 6, es decir 11\n",
    "#Seguimos con rectificador lineal unitaria\n",
    "classifier.add(Dense(units=6,kernel_initializer='uniform',activation='relu'))"
   ]
  },
  {
   "cell_type": "markdown",
   "id": "063ffea1",
   "metadata": {},
   "source": [
    "### Añadimos la capa de salida"
   ]
  },
  {
   "cell_type": "code",
   "execution_count": 20,
   "id": "5eb3fda9",
   "metadata": {},
   "outputs": [],
   "source": [
    "#Añadir la capa de salida\n",
    "#Solo hay un nodo en la capa de salida. Como es 0 o 1 usamos sigmoidea\n",
    "#le ponemos 1 pq es si o no\n",
    "classifier.add(Dense(units=1,kernel_initializer='uniform',activation='sigmoid')) "
   ]
  },
  {
   "cell_type": "markdown",
   "id": "cbea6c4b",
   "metadata": {},
   "source": [
    "### Compilar la red neuronal artificial"
   ]
  },
  {
   "cell_type": "code",
   "execution_count": 21,
   "id": "808c4b2f",
   "metadata": {},
   "outputs": [],
   "source": [
    "#optimizer, algoritmo para encontrar el optimo de pesos, puede ser el gradiente descendiente\n",
    "#loss es la funcion de perdidas, permite minimizar el error, es la funcion de la C\n",
    "#binary cross entropy hace la diferencia y aplica un logaritmo al resultado, para transformar categoria en numeros\n",
    "#accuracy hace que la precision aumente de una iteracion a otra\n",
    "classifier.compile(optimizer=\"adam\",loss=\"binary_crossentropy\",metrics=[\"accuracy\"]) #Compila nuestra red neuronal"
   ]
  },
  {
   "cell_type": "markdown",
   "id": "8deb5f1b",
   "metadata": {},
   "source": [
    "### Ajustamos la red neuronal al conjunto de entrenamiento"
   ]
  },
  {
   "cell_type": "code",
   "execution_count": 25,
   "id": "2cc3eb70",
   "metadata": {},
   "outputs": [
    {
     "name": "stdout",
     "output_type": "stream",
     "text": [
      "Epoch 1/100\n",
      "800/800 [==============================] - 2s 989us/step - loss: 0.4797 - accuracy: 0.7959\n",
      "Epoch 2/100\n",
      "800/800 [==============================] - 1s 926us/step - loss: 0.4275 - accuracy: 0.7960\n",
      "Epoch 3/100\n",
      "800/800 [==============================] - 1s 921us/step - loss: 0.4219 - accuracy: 0.8014\n",
      "Epoch 4/100\n",
      "800/800 [==============================] - 1s 887us/step - loss: 0.4183 - accuracy: 0.8216\n",
      "Epoch 5/100\n",
      "800/800 [==============================] - 1s 910us/step - loss: 0.4157 - accuracy: 0.8261\n",
      "Epoch 6/100\n",
      "800/800 [==============================] - 1s 939us/step - loss: 0.4143 - accuracy: 0.8298\n",
      "Epoch 7/100\n",
      "800/800 [==============================] - 1s 926us/step - loss: 0.4128 - accuracy: 0.8326\n",
      "Epoch 8/100\n",
      "800/800 [==============================] - 1s 931us/step - loss: 0.4119 - accuracy: 0.8319\n",
      "Epoch 9/100\n",
      "800/800 [==============================] - 1s 921us/step - loss: 0.4109 - accuracy: 0.8341\n",
      "Epoch 10/100\n",
      "800/800 [==============================] - 1s 1ms/step - loss: 0.4101 - accuracy: 0.8335\n",
      "Epoch 11/100\n",
      "800/800 [==============================] - 1s 885us/step - loss: 0.4087 - accuracy: 0.8325\n",
      "Epoch 12/100\n",
      "800/800 [==============================] - 1s 869us/step - loss: 0.4085 - accuracy: 0.8342\n",
      "Epoch 13/100\n",
      "800/800 [==============================] - 1s 940us/step - loss: 0.4078 - accuracy: 0.8335\n",
      "Epoch 14/100\n",
      "800/800 [==============================] - 1s 1ms/step - loss: 0.4074 - accuracy: 0.8339\n",
      "Epoch 15/100\n",
      "800/800 [==============================] - 1s 941us/step - loss: 0.4067 - accuracy: 0.8330\n",
      "Epoch 16/100\n",
      "800/800 [==============================] - 1s 994us/step - loss: 0.4064 - accuracy: 0.8350\n",
      "Epoch 17/100\n",
      "800/800 [==============================] - 1s 995us/step - loss: 0.4063 - accuracy: 0.8347\n",
      "Epoch 18/100\n",
      "800/800 [==============================] - 1s 1ms/step - loss: 0.4051 - accuracy: 0.8344\n",
      "Epoch 19/100\n",
      "800/800 [==============================] - 1s 972us/step - loss: 0.4054 - accuracy: 0.8349\n",
      "Epoch 20/100\n",
      "800/800 [==============================] - 1s 955us/step - loss: 0.4048 - accuracy: 0.8351\n",
      "Epoch 21/100\n",
      "800/800 [==============================] - 1s 950us/step - loss: 0.4041 - accuracy: 0.8360\n",
      "Epoch 22/100\n",
      "800/800 [==============================] - 1s 869us/step - loss: 0.4044 - accuracy: 0.8334\n",
      "Epoch 23/100\n",
      "800/800 [==============================] - 1s 870us/step - loss: 0.4041 - accuracy: 0.8347\n",
      "Epoch 24/100\n",
      "800/800 [==============================] - 1s 860us/step - loss: 0.4038 - accuracy: 0.8355\n",
      "Epoch 25/100\n",
      "800/800 [==============================] - 1s 881us/step - loss: 0.4039 - accuracy: 0.8341\n",
      "Epoch 26/100\n",
      "800/800 [==============================] - 1s 925us/step - loss: 0.4035 - accuracy: 0.8346\n",
      "Epoch 27/100\n",
      "800/800 [==============================] - 1s 879us/step - loss: 0.4034 - accuracy: 0.8354\n",
      "Epoch 28/100\n",
      "800/800 [==============================] - 1s 861us/step - loss: 0.4031 - accuracy: 0.8330\n",
      "Epoch 29/100\n",
      "800/800 [==============================] - 1s 947us/step - loss: 0.4031 - accuracy: 0.8370\n",
      "Epoch 30/100\n",
      "800/800 [==============================] - 1s 937us/step - loss: 0.4026 - accuracy: 0.8351\n",
      "Epoch 31/100\n",
      "800/800 [==============================] - 1s 886us/step - loss: 0.4025 - accuracy: 0.8356\n",
      "Epoch 32/100\n",
      "800/800 [==============================] - 1s 955us/step - loss: 0.4028 - accuracy: 0.8339\n",
      "Epoch 33/100\n",
      "800/800 [==============================] - 1s 955us/step - loss: 0.4028 - accuracy: 0.8351\n",
      "Epoch 34/100\n",
      "800/800 [==============================] - 1s 971us/step - loss: 0.4026 - accuracy: 0.8347\n",
      "Epoch 35/100\n",
      "800/800 [==============================] - 1s 965us/step - loss: 0.4027 - accuracy: 0.8345\n",
      "Epoch 36/100\n",
      "800/800 [==============================] - 1s 951us/step - loss: 0.4024 - accuracy: 0.8361\n",
      "Epoch 37/100\n",
      "800/800 [==============================] - 1s 952us/step - loss: 0.4018 - accuracy: 0.8346\n",
      "Epoch 38/100\n",
      "800/800 [==============================] - 1s 901us/step - loss: 0.4019 - accuracy: 0.8335\n",
      "Epoch 39/100\n",
      "800/800 [==============================] - 1s 875us/step - loss: 0.4023 - accuracy: 0.8338\n",
      "Epoch 40/100\n",
      "800/800 [==============================] - 1s 882us/step - loss: 0.4022 - accuracy: 0.8357\n",
      "Epoch 41/100\n",
      "800/800 [==============================] - 1s 920us/step - loss: 0.4020 - accuracy: 0.8339\n",
      "Epoch 42/100\n",
      "800/800 [==============================] - 1s 937us/step - loss: 0.4018 - accuracy: 0.8344\n",
      "Epoch 43/100\n",
      "800/800 [==============================] - 1s 962us/step - loss: 0.4020 - accuracy: 0.8350\n",
      "Epoch 44/100\n",
      "800/800 [==============================] - 1s 874us/step - loss: 0.4015 - accuracy: 0.8338\n",
      "Epoch 45/100\n",
      "800/800 [==============================] - 1s 875us/step - loss: 0.4017 - accuracy: 0.8350\n",
      "Epoch 46/100\n",
      "800/800 [==============================] - 1s 877us/step - loss: 0.4019 - accuracy: 0.8345\n",
      "Epoch 47/100\n",
      "800/800 [==============================] - 1s 929us/step - loss: 0.4016 - accuracy: 0.8341\n",
      "Epoch 48/100\n",
      "800/800 [==============================] - 1s 931us/step - loss: 0.4017 - accuracy: 0.8341\n",
      "Epoch 49/100\n",
      "800/800 [==============================] - 1s 867us/step - loss: 0.4011 - accuracy: 0.8335\n",
      "Epoch 50/100\n",
      "800/800 [==============================] - 1s 882us/step - loss: 0.4015 - accuracy: 0.8340\n",
      "Epoch 51/100\n",
      "800/800 [==============================] - 1s 906us/step - loss: 0.4017 - accuracy: 0.8345\n",
      "Epoch 52/100\n",
      "800/800 [==============================] - 1s 862us/step - loss: 0.4011 - accuracy: 0.8354\n",
      "Epoch 53/100\n",
      "800/800 [==============================] - 1s 861us/step - loss: 0.4014 - accuracy: 0.8332\n",
      "Epoch 54/100\n",
      "800/800 [==============================] - 1s 895us/step - loss: 0.4012 - accuracy: 0.8346\n",
      "Epoch 55/100\n",
      "800/800 [==============================] - 1s 967us/step - loss: 0.4012 - accuracy: 0.8349\n",
      "Epoch 56/100\n",
      "800/800 [==============================] - 1s 857us/step - loss: 0.4013 - accuracy: 0.8350\n",
      "Epoch 57/100\n",
      "800/800 [==============================] - 1s 876us/step - loss: 0.4009 - accuracy: 0.8336\n",
      "Epoch 58/100\n",
      "800/800 [==============================] - 1s 930us/step - loss: 0.4007 - accuracy: 0.8334\n",
      "Epoch 59/100\n",
      "800/800 [==============================] - 1s 897us/step - loss: 0.4006 - accuracy: 0.8338\n",
      "Epoch 60/100\n",
      "800/800 [==============================] - 1s 860us/step - loss: 0.4005 - accuracy: 0.8347\n",
      "Epoch 61/100\n",
      "800/800 [==============================] - 1s 856us/step - loss: 0.4010 - accuracy: 0.8340\n",
      "Epoch 62/100\n",
      "800/800 [==============================] - 1s 884us/step - loss: 0.4012 - accuracy: 0.8324\n",
      "Epoch 63/100\n",
      "800/800 [==============================] - 1s 872us/step - loss: 0.4005 - accuracy: 0.8342\n",
      "Epoch 64/100\n",
      "800/800 [==============================] - 1s 865us/step - loss: 0.4013 - accuracy: 0.8351\n",
      "Epoch 65/100\n",
      "800/800 [==============================] - 1s 914us/step - loss: 0.4003 - accuracy: 0.8345\n",
      "Epoch 66/100\n",
      "800/800 [==============================] - 1s 949us/step - loss: 0.4006 - accuracy: 0.8354\n",
      "Epoch 67/100\n",
      "800/800 [==============================] - 1s 936us/step - loss: 0.4004 - accuracy: 0.8332\n",
      "Epoch 68/100\n",
      "800/800 [==============================] - 1s 874us/step - loss: 0.4009 - accuracy: 0.8356\n",
      "Epoch 69/100\n",
      "800/800 [==============================] - 1s 864us/step - loss: 0.4008 - accuracy: 0.8334\n",
      "Epoch 70/100\n",
      "800/800 [==============================] - 1s 866us/step - loss: 0.4006 - accuracy: 0.8335\n",
      "Epoch 71/100\n",
      "800/800 [==============================] - 1s 860us/step - loss: 0.4006 - accuracy: 0.8341\n",
      "Epoch 72/100\n",
      "800/800 [==============================] - 1s 894us/step - loss: 0.4001 - accuracy: 0.8340\n",
      "Epoch 73/100\n",
      "800/800 [==============================] - 1s 859us/step - loss: 0.4007 - accuracy: 0.8347\n",
      "Epoch 74/100\n",
      "800/800 [==============================] - 1s 850us/step - loss: 0.4007 - accuracy: 0.8359\n",
      "Epoch 75/100\n",
      "800/800 [==============================] - 1s 920us/step - loss: 0.4005 - accuracy: 0.8349\n",
      "Epoch 76/100\n",
      "800/800 [==============================] - 1s 925us/step - loss: 0.4004 - accuracy: 0.8342\n",
      "Epoch 77/100\n",
      "800/800 [==============================] - 1s 872us/step - loss: 0.4003 - accuracy: 0.8351\n",
      "Epoch 78/100\n",
      "800/800 [==============================] - 1s 1ms/step - loss: 0.4004 - accuracy: 0.8342\n",
      "Epoch 79/100\n",
      "800/800 [==============================] - 1s 1ms/step - loss: 0.4007 - accuracy: 0.8339\n"
     ]
    },
    {
     "name": "stdout",
     "output_type": "stream",
     "text": [
      "Epoch 80/100\n",
      "800/800 [==============================] - 1s 1ms/step - loss: 0.4001 - accuracy: 0.8350\n",
      "Epoch 81/100\n",
      "800/800 [==============================] - 1s 1ms/step - loss: 0.4006 - accuracy: 0.8350\n",
      "Epoch 82/100\n",
      "800/800 [==============================] - 1s 1ms/step - loss: 0.3997 - accuracy: 0.8338: 0s -\n",
      "Epoch 83/100\n",
      "800/800 [==============================] - 1s 930us/step - loss: 0.4004 - accuracy: 0.8356\n",
      "Epoch 84/100\n",
      "800/800 [==============================] - 1s 894us/step - loss: 0.4005 - accuracy: 0.8335\n",
      "Epoch 85/100\n",
      "800/800 [==============================] - 1s 867us/step - loss: 0.4009 - accuracy: 0.8340\n",
      "Epoch 86/100\n",
      "800/800 [==============================] - 1s 870us/step - loss: 0.3998 - accuracy: 0.8341\n",
      "Epoch 87/100\n",
      "800/800 [==============================] - 1s 870us/step - loss: 0.4004 - accuracy: 0.8346\n",
      "Epoch 88/100\n",
      "800/800 [==============================] - 1s 916us/step - loss: 0.4002 - accuracy: 0.8347\n",
      "Epoch 89/100\n",
      "800/800 [==============================] - 1s 881us/step - loss: 0.4006 - accuracy: 0.8347\n",
      "Epoch 90/100\n",
      "800/800 [==============================] - 1s 874us/step - loss: 0.3998 - accuracy: 0.8355\n",
      "Epoch 91/100\n",
      "800/800 [==============================] - 1s 940us/step - loss: 0.4008 - accuracy: 0.8340\n",
      "Epoch 92/100\n",
      "800/800 [==============================] - 1s 890us/step - loss: 0.4003 - accuracy: 0.8351\n",
      "Epoch 93/100\n",
      "800/800 [==============================] - 1s 885us/step - loss: 0.4006 - accuracy: 0.8346\n",
      "Epoch 94/100\n",
      "800/800 [==============================] - 1s 909us/step - loss: 0.4008 - accuracy: 0.8340\n",
      "Epoch 95/100\n",
      "800/800 [==============================] - 1s 901us/step - loss: 0.4003 - accuracy: 0.8346\n",
      "Epoch 96/100\n",
      "800/800 [==============================] - 1s 862us/step - loss: 0.4002 - accuracy: 0.8347\n",
      "Epoch 97/100\n",
      "800/800 [==============================] - 1s 884us/step - loss: 0.4006 - accuracy: 0.8332\n",
      "Epoch 98/100\n",
      "800/800 [==============================] - 1s 859us/step - loss: 0.3999 - accuracy: 0.8346\n",
      "Epoch 99/100\n",
      "800/800 [==============================] - 1s 959us/step - loss: 0.4000 - accuracy: 0.8339\n",
      "Epoch 100/100\n",
      "800/800 [==============================] - 1s 994us/step - loss: 0.3999 - accuracy: 0.8346\n"
     ]
    },
    {
     "data": {
      "text/plain": [
       "<keras.callbacks.History at 0x21155ae7e80>"
      ]
     },
     "execution_count": 25,
     "metadata": {},
     "output_type": "execute_result"
    }
   ],
   "source": [
    "#Enviamos el conjunto de entrenamiento y nuestro y de entrenamiento\n",
    "#procesa 10 elementos y corrige los pesos, es mas rapido que 1 por 1, esto por el minimo global\n",
    "#100 iterationes\n",
    "classifier.fit(X_train,Y_train,batch_size=10,epochs=100)"
   ]
  },
  {
   "cell_type": "markdown",
   "id": "e0083b06",
   "metadata": {},
   "source": [
    "### Para el caso, tuvimos 83% de precisión en el conjunto de entrenamiento"
   ]
  },
  {
   "cell_type": "markdown",
   "id": "dc4f48cb",
   "metadata": {},
   "source": [
    "## Parte 3.- Evaluar el modelo y calcular predicciones finales"
   ]
  },
  {
   "cell_type": "code",
   "execution_count": 27,
   "id": "fb3e7079",
   "metadata": {},
   "outputs": [],
   "source": [
    "#sacamos las predicciones con el modelo\n",
    "y_pred = classifier.predict(X_test)"
   ]
  },
  {
   "cell_type": "code",
   "execution_count": 30,
   "id": "14ab4d42",
   "metadata": {},
   "outputs": [
    {
     "data": {
      "text/plain": [
       "array([[0.16385034],\n",
       "       [0.34764457],\n",
       "       [0.15114462],\n",
       "       ...,\n",
       "       [0.17093524],\n",
       "       [0.14690048],\n",
       "       [0.10046998]], dtype=float32)"
      ]
     },
     "execution_count": 30,
     "metadata": {},
     "output_type": "execute_result"
    }
   ],
   "source": [
    "#Nos da el resultado en probabilidades, entre menos sea, menos probabilidad de abandonar el banco\n",
    "y_pred"
   ]
  },
  {
   "cell_type": "markdown",
   "id": "7922ac1b",
   "metadata": {},
   "source": [
    "Debemos decidir cual es el umbral, a que porcentaje decidimos que si se irá"
   ]
  },
  {
   "cell_type": "code",
   "execution_count": 33,
   "id": "8aa21b84",
   "metadata": {},
   "outputs": [],
   "source": [
    "#Regresamos como verdadero los mayores al 50%\n",
    "y_pred = (y_pred>0.5)"
   ]
  },
  {
   "cell_type": "code",
   "execution_count": 34,
   "id": "707fbdf3",
   "metadata": {},
   "outputs": [
    {
     "data": {
      "text/plain": [
       "array([[False],\n",
       "       [False],\n",
       "       [False],\n",
       "       ...,\n",
       "       [False],\n",
       "       [False],\n",
       "       [False]])"
      ]
     },
     "execution_count": 34,
     "metadata": {},
     "output_type": "execute_result"
    }
   ],
   "source": [
    "y_pred"
   ]
  },
  {
   "cell_type": "markdown",
   "id": "248223cf",
   "metadata": {},
   "source": [
    "### Hacemos la matriz de confusión"
   ]
  },
  {
   "cell_type": "code",
   "execution_count": 35,
   "id": "44eedc56",
   "metadata": {},
   "outputs": [],
   "source": [
    "from sklearn.metrics import confusion_matrix"
   ]
  },
  {
   "cell_type": "code",
   "execution_count": 37,
   "id": "f398ea45",
   "metadata": {},
   "outputs": [],
   "source": [
    "#Creamos la matriz de confusión que nos dará los resultados finales\n",
    "cm = confusion_matrix(Y_test, y_pred) # el conjunto de testing y el que da la prediccion"
   ]
  },
  {
   "cell_type": "code",
   "execution_count": 39,
   "id": "15c627ba",
   "metadata": {},
   "outputs": [
    {
     "name": "stdout",
     "output_type": "stream",
     "text": [
      "[[1551   44]\n",
      " [ 273  132]]\n"
     ]
    }
   ],
   "source": [
    "print(cm)\n",
    "#1551 + 132 son correctas\n",
    "# 273 +132 predicciones son incorrectas"
   ]
  },
  {
   "cell_type": "markdown",
   "id": "e07fb07f",
   "metadata": {},
   "source": [
    "## Resultado"
   ]
  },
  {
   "cell_type": "code",
   "execution_count": 40,
   "id": "bd27e165",
   "metadata": {},
   "outputs": [
    {
     "name": "stdout",
     "output_type": "stream",
     "text": [
      "0.8415\n",
      "0.8415\n"
     ]
    }
   ],
   "source": [
    "# 1551 + 132 predcciones correctas / 2000 datos del conjunto de testing\n",
    "print(f'{(1551+132)/2000}')\n",
    "print(f'{(cm[0][0]+cm[1][1])/len(X_test)}')"
   ]
  },
  {
   "cell_type": "markdown",
   "id": "5920385b",
   "metadata": {},
   "source": [
    "# Tenemos un 84% de precisión"
   ]
  },
  {
   "cell_type": "markdown",
   "id": "8f05377e",
   "metadata": {},
   "source": [
    "### EL cliente con la siguiente información abandonará el banco? de acuerdo al modelo"
   ]
  },
  {
   "cell_type": "markdown",
   "id": "a23b4a86",
   "metadata": {},
   "source": [
    "Geografia: Francia\n",
    "\n",
    "Puntaje de crédito: 600\n",
    "\n",
    "Género masculino\n",
    "\n",
    "Edad: 40 años de edad\n",
    "\n",
    "Tenencia: 3 años.\n",
    "\n",
    "Saldo: $ 60000\n",
    "\n",
    "Número de productos: 2\n",
    "\n",
    "¿Este cliente tiene una tarjeta de crédito? Sí\n",
    "\n",
    "¿Es este cliente un miembro activo? Sí\n",
    "\n",
    "Salario estimado: $ 50000"
   ]
  },
  {
   "cell_type": "code",
   "execution_count": 50,
   "id": "0befc770",
   "metadata": {},
   "outputs": [
    {
     "data": {
      "text/plain": [
       "array([[-0.5698444 ,  1.74309049,  0.16958176, ...,  0.64259497,\n",
       "        -1.03227043,  1.10643166],\n",
       "       [ 1.75486502, -0.57369368, -2.30455945, ...,  0.64259497,\n",
       "         0.9687384 , -0.74866447],\n",
       "       [-0.5698444 , -0.57369368, -1.19119591, ...,  0.64259497,\n",
       "        -1.03227043,  1.48533467],\n",
       "       ...,\n",
       "       [-0.5698444 , -0.57369368,  0.9015152 , ...,  0.64259497,\n",
       "        -1.03227043,  1.41231994],\n",
       "       [-0.5698444 ,  1.74309049, -0.62420521, ...,  0.64259497,\n",
       "         0.9687384 ,  0.84432121],\n",
       "       [ 1.75486502, -0.57369368, -0.28401079, ...,  0.64259497,\n",
       "        -1.03227043,  0.32472465]])"
      ]
     },
     "execution_count": 50,
     "metadata": {},
     "output_type": "execute_result"
    }
   ],
   "source": [
    "X_train"
   ]
  },
  {
   "cell_type": "markdown",
   "id": "7c00e69e",
   "metadata": {},
   "source": [
    "creamos nuestra lista con los datos"
   ]
  },
  {
   "cell_type": "code",
   "execution_count": 51,
   "id": "ad2b84d0",
   "metadata": {},
   "outputs": [],
   "source": [
    "# como el pais es francia, 0,0 en primeras colimnas , suponemos es el segundo, suponemos que 0 es hombre\n",
    "par_predecir = [[0.0,0.0,600,0.0,42,3,60000.00,2,1,1,50000]] "
   ]
  },
  {
   "cell_type": "code",
   "execution_count": 52,
   "id": "dc78ce3e",
   "metadata": {},
   "outputs": [],
   "source": [
    "par_predecir = np.array(par_predecir)"
   ]
  },
  {
   "cell_type": "code",
   "execution_count": 54,
   "id": "b9fbdd00",
   "metadata": {},
   "outputs": [],
   "source": [
    "par_predecir = sc_X.transform(par_predecir)"
   ]
  },
  {
   "cell_type": "code",
   "execution_count": 55,
   "id": "681649f2",
   "metadata": {},
   "outputs": [
    {
     "data": {
      "text/plain": [
       "array([[-0.5698444 ,  1.74309049, -0.52111599, -1.09168714,  0.30102557,\n",
       "        -0.68538967, -0.2569057 ,  0.8095029 ,  0.64259497,  0.9687384 ,\n",
       "        -0.87203322]])"
      ]
     },
     "execution_count": 55,
     "metadata": {},
     "output_type": "execute_result"
    }
   ],
   "source": [
    "par_predecir"
   ]
  },
  {
   "cell_type": "markdown",
   "id": "8e073438",
   "metadata": {},
   "source": [
    "### lo aplicamos en la red neuronal"
   ]
  },
  {
   "cell_type": "code",
   "execution_count": 56,
   "id": "7dcbeca7",
   "metadata": {},
   "outputs": [],
   "source": [
    "mi_pred = classifier.predict(par_predecir)"
   ]
  },
  {
   "cell_type": "code",
   "execution_count": 57,
   "id": "436ca21d",
   "metadata": {},
   "outputs": [
    {
     "name": "stdout",
     "output_type": "stream",
     "text": [
      "[[0.1887916]]\n"
     ]
    }
   ],
   "source": [
    "print(mi_pred) "
   ]
  },
  {
   "cell_type": "markdown",
   "id": "05fba90d",
   "metadata": {},
   "source": [
    "# 18%<50%, por tanto no abandona el banco"
   ]
  },
  {
   "cell_type": "code",
   "execution_count": null,
   "id": "299e803e",
   "metadata": {},
   "outputs": [],
   "source": []
  }
 ],
 "metadata": {
  "kernelspec": {
   "display_name": "Python 3",
   "language": "python",
   "name": "python3"
  },
  "language_info": {
   "codemirror_mode": {
    "name": "ipython",
    "version": 3
   },
   "file_extension": ".py",
   "mimetype": "text/x-python",
   "name": "python",
   "nbconvert_exporter": "python",
   "pygments_lexer": "ipython3",
   "version": "3.8.8"
  }
 },
 "nbformat": 4,
 "nbformat_minor": 5
}
